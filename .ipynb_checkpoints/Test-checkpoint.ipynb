{
 "cells": [
  {
   "cell_type": "code",
   "execution_count": 139,
   "id": "dc557501",
   "metadata": {},
   "outputs": [],
   "source": [
    "import requests\n",
    "import uuid\n",
    "import json\n",
    "import time"
   ]
  },
  {
   "cell_type": "markdown",
   "id": "74c5a709",
   "metadata": {},
   "source": [
    "# ПОЛУЧАЕМ ДАННЫЕ О СПИСКЕ КОЛЛЕКЦИЙ"
   ]
  },
  {
   "cell_type": "code",
   "execution_count": 99,
   "id": "eda54472",
   "metadata": {},
   "outputs": [
    {
     "data": {
      "text/plain": [
       "<Response [200]>"
      ]
     },
     "execution_count": 99,
     "metadata": {},
     "output_type": "execute_result"
    }
   ],
   "source": [
    "id = str(uuid.uuid4())\n",
    "message = { \"id\": id, \"mqtt_key\": \"234\", \"user\": \"2321\", \"type\": \"courses\", \"data_key\": \"\",\"action\": \"get_data\" }\n",
    "resp = requests.post(\"http://localhost:8000/api/add_message\", json=message)\n",
    "resp"
   ]
  },
  {
   "cell_type": "code",
   "execution_count": 101,
   "id": "6ca151b3",
   "metadata": {},
   "outputs": [
    {
     "data": {
      "text/plain": [
       "{'message': {'id': '5eb7c9e3-6fd8-4fb5-886a-a7956511edaa',\n",
       "  'mqtt_key': '234',\n",
       "  'user': '2321',\n",
       "  'type': 'courses',\n",
       "  'data_key': '',\n",
       "  'action': 'get_data',\n",
       "  'timestamp': 1669464208},\n",
       " 'result': {'courses': ['programming', 'test']}}"
      ]
     },
     "execution_count": 101,
     "metadata": {},
     "output_type": "execute_result"
    }
   ],
   "source": [
    "message = { \"id\": id }\n",
    "resp = requests.post(\"http://localhost:8000/api/get_message_result\", json=message)\n",
    "resp.json()"
   ]
  },
  {
   "cell_type": "markdown",
   "id": "5f5deea1",
   "metadata": {},
   "source": [
    "# ПОЛУЧАЕМ ДАННЫЕ О СТРУКТУРЕ КОЛЛЕКЦИИ"
   ]
  },
  {
   "cell_type": "code",
   "execution_count": 118,
   "id": "1061ed5f",
   "metadata": {},
   "outputs": [
    {
     "data": {
      "text/plain": [
       "<Response [200]>"
      ]
     },
     "execution_count": 118,
     "metadata": {},
     "output_type": "execute_result"
    }
   ],
   "source": [
    "id = str(uuid.uuid4())\n",
    "message = { \"id\": id, \"mqtt_key\": \"234\", \"user\": \"2321\", \"type\": \"problems\", \"data_key\": \"programming\", \"action\": \"get_data\" }\n",
    "resp = requests.post(\"http://localhost:8000/api/add_message\", json=message)\n",
    "resp"
   ]
  },
  {
   "cell_type": "code",
   "execution_count": 121,
   "id": "7366dee3",
   "metadata": {},
   "outputs": [
    {
     "data": {
      "text/plain": [
       "<Response [200]>"
      ]
     },
     "execution_count": 121,
     "metadata": {},
     "output_type": "execute_result"
    }
   ],
   "source": [
    "message = { \"id\": id }\n",
    "resp = requests.post(\"http://localhost:8000/api/get_message_result\", json=message)\n",
    "resp"
   ]
  },
  {
   "cell_type": "code",
   "execution_count": 122,
   "id": "9a73f57f",
   "metadata": {},
   "outputs": [
    {
     "data": {
      "text/plain": [
       "{'message': {'id': '5c27a3dd-a932-4912-8409-0534558795d0',\n",
       "  'mqtt_key': '234',\n",
       "  'user': '2321',\n",
       "  'type': 'problems',\n",
       "  'data_key': 'programming',\n",
       "  'action': 'get_data',\n",
       "  'timestamp': 1669465071},\n",
       " 'result': {'problems': [{'1': ['1', '2'], 'task': ''},\n",
       "   {'2': ['1', '2'], 'task': ''},\n",
       "   {'3': ['1'],\n",
       "    'task': 'Задача - написать алгоритм, который получает на вход целое число и возвращает число на 1 большее.'}]}}"
      ]
     },
     "execution_count": 122,
     "metadata": {},
     "output_type": "execute_result"
    }
   ],
   "source": [
    "resp.json()"
   ]
  },
  {
   "cell_type": "markdown",
   "id": "e7208f04",
   "metadata": {},
   "source": [
    "# ДОБАВЛЕНИЕ ЗАДАЧ ИЗ ФАЙЛА"
   ]
  },
  {
   "cell_type": "code",
   "execution_count": 185,
   "id": "91f4314a",
   "metadata": {},
   "outputs": [
    {
     "name": "stdout",
     "output_type": "stream",
     "text": [
      "Problem 5, variant 1\n",
      "<Response [200]>\n",
      "Response code - 200, Message - {\"message\": {\"id\": \"fa4d9343-cb35-441d-9fb5-60c86f0224cc\", \"mqtt_key\": 123, \"user\": \"admin\", \"type\": \"equal\", \"course\": \"test\", \"problem\": 5, \"variant\": \"1\", \"action\": \"add_problem\", \"task\": \"\\u0417\\u0430\\u0434\\u0430\\u0447\\u0430 - \\u043d\\u0430\\u043f\\u0438\\u0441\\u0430\\u0442\\u044c \\u0430\\u043b\\u0433\\u043e\\u0440\\u0438\\u0442\\u043c, \\u043a\\u043e\\u0442\\u043e\\u0440\\u044b\\u0439 \\u043f\\u043e\\u043b\\u0443\\u0447\\u0430\\u0435\\u0442 \\u043d\\u0430 \\u0432\\u0445\\u043e\\u0434 \\u0446\\u0435\\u043b\\u043e\\u0435 \\u0447\\u0438\\u0441\\u043b\\u043e \\u0438 \\u0432\\u043e\\u0437\\u0432\\u0440\\u0430\\u0449\\u0430\\u0435\\u0442 \\u0447\\u0438\\u0441\\u043b\\u043e \\u043d\\u0430 1 \\u0431\\u043e\\u043b\\u044c\\u0448\\u0435\\u0435.\", \"tests\": {\"1\": {\"in\": \"1\", \"out\": \"2\", \"score\": 10}, \"2\": {\"in\": \"2\", \"out\": \"3\", \"score\": 10}}, \"timestamp\": 1669584362}, \"result\": {\"task\": \"\\u0417\\u0430\\u0434\\u0430\\u0447\\u0430 - \\u043d\\u0430\\u043f\\u0438\\u0441\\u0430\\u0442\\u044c \\u0430\\u043b\\u0433\\u043e\\u0440\\u0438\\u0442\\u043c, \\u043a\\u043e\\u0442\\u043e\\u0440\\u044b\\u0439 \\u043f\\u043e\\u043b\\u0443\\u0447\\u0430\\u0435\\u0442 \\u043d\\u0430 \\u0432\\u0445\\u043e\\u0434 \\u0446\\u0435\\u043b\\u043e\\u0435 \\u0447\\u0438\\u0441\\u043b\\u043e \\u0438 \\u0432\\u043e\\u0437\\u0432\\u0440\\u0430\\u0449\\u0430\\u0435\\u0442 \\u0447\\u0438\\u0441\\u043b\\u043e \\u043d\\u0430 1 \\u0431\\u043e\\u043b\\u044c\\u0448\\u0435\\u0435.\", \"problem\": 5, \"type\": \"equal\", \"variants\": {\"1\": {\"1\": {\"in\": \"1\", \"out\": \"2\", \"score\": 10}, \"2\": {\"in\": \"2\", \"out\": \"3\", \"score\": 10}}}}}\n",
      "Problem 5, variant 2\n",
      "<Response [200]>\n",
      "Response code - 200, Message - {\"message\": {\"id\": \"06887651-eb7e-4c01-8cec-a30b72d688a2\", \"mqtt_key\": 123, \"user\": \"admin\", \"type\": \"equal\", \"course\": \"test\", \"problem\": 5, \"variant\": \"2\", \"action\": \"add_problem\", \"task\": \"\\u0417\\u0430\\u0434\\u0430\\u0447\\u0430 - \\u043d\\u0430\\u043f\\u0438\\u0441\\u0430\\u0442\\u044c \\u0430\\u043b\\u0433\\u043e\\u0440\\u0438\\u0442\\u043c, \\u043a\\u043e\\u0442\\u043e\\u0440\\u044b\\u0439 \\u043f\\u043e\\u043b\\u0443\\u0447\\u0430\\u0435\\u0442 \\u043d\\u0430 \\u0432\\u0445\\u043e\\u0434 \\u0446\\u0435\\u043b\\u043e\\u0435 \\u0447\\u0438\\u0441\\u043b\\u043e \\u0438 \\u0432\\u043e\\u0437\\u0432\\u0440\\u0430\\u0449\\u0430\\u0435\\u0442 \\u0447\\u0438\\u0441\\u043b\\u043e \\u043d\\u0430 1 \\u0431\\u043e\\u043b\\u044c\\u0448\\u0435\\u0435.\", \"tests\": {\"1\": {\"in\": \"4\", \"out\": \"5\", \"score\": 10}, \"2\": {\"in\": \"6\", \"out\": \"7\", \"score\": 10}}, \"timestamp\": 1669584363}, \"result\": {\"task\": \"\\u0417\\u0430\\u0434\\u0430\\u0447\\u0430 - \\u043d\\u0430\\u043f\\u0438\\u0441\\u0430\\u0442\\u044c \\u0430\\u043b\\u0433\\u043e\\u0440\\u0438\\u0442\\u043c, \\u043a\\u043e\\u0442\\u043e\\u0440\\u044b\\u0439 \\u043f\\u043e\\u043b\\u0443\\u0447\\u0430\\u0435\\u0442 \\u043d\\u0430 \\u0432\\u0445\\u043e\\u0434 \\u0446\\u0435\\u043b\\u043e\\u0435 \\u0447\\u0438\\u0441\\u043b\\u043e \\u0438 \\u0432\\u043e\\u0437\\u0432\\u0440\\u0430\\u0449\\u0430\\u0435\\u0442 \\u0447\\u0438\\u0441\\u043b\\u043e \\u043d\\u0430 1 \\u0431\\u043e\\u043b\\u044c\\u0448\\u0435\\u0435.\", \"problem\": 5, \"type\": \"equal\", \"variants\": {\"1\": {\"1\": {\"in\": \"1\", \"out\": \"2\", \"score\": 10}, \"2\": {\"in\": \"2\", \"out\": \"3\", \"score\": 10}}, \"2\": {\"1\": {\"in\": \"4\", \"out\": \"5\", \"score\": 10}, \"2\": {\"in\": \"6\", \"out\": \"7\", \"score\": 10}}}}}\n",
      "Problem 6, variant 1\n",
      "<Response [200]>\n",
      "Response code - 200, Message - {\"message\": {\"id\": \"ec146a95-e1e3-42ef-8587-3d3c60e52f24\", \"mqtt_key\": 123, \"user\": \"admin\", \"type\": \"equal\", \"course\": \"test\", \"problem\": 6, \"variant\": \"1\", \"action\": \"add_problem\", \"task\": \"\\u0417\\u0430\\u0434\\u0430\\u0447\\u0430 - \\u043d\\u0430\\u043f\\u0438\\u0441\\u0430\\u0442\\u044c \\u0430\\u043b\\u0433\\u043e\\u0440\\u0438\\u0442\\u043c, \\u043a\\u043e\\u0442\\u043e\\u0440\\u044b\\u0439 \\u043f\\u043e\\u043b\\u0443\\u0447\\u0430\\u0435\\u0442 \\u043d\\u0430 \\u0432\\u0445\\u043e\\u0434 \\u0446\\u0435\\u043b\\u043e\\u0435 \\u0447\\u0438\\u0441\\u043b\\u043e \\u0438 \\u0432\\u043e\\u0437\\u0432\\u0440\\u0430\\u0449\\u0430\\u0435\\u0442 \\u0447\\u0438\\u0441\\u043b\\u043e \\u043d\\u0430 1 \\u0431\\u043e\\u043b\\u044c\\u0448\\u0435\\u0435.\", \"tests\": {\"1\": {\"in\": \"9\", \"out\": \"10\", \"score\": 10}, \"2\": {\"in\": \"12\", \"out\": \"13\", \"score\": 10}}, \"timestamp\": 1669584364}, \"result\": {\"task\": \"\\u0417\\u0430\\u0434\\u0430\\u0447\\u0430 - \\u043d\\u0430\\u043f\\u0438\\u0441\\u0430\\u0442\\u044c \\u0430\\u043b\\u0433\\u043e\\u0440\\u0438\\u0442\\u043c, \\u043a\\u043e\\u0442\\u043e\\u0440\\u044b\\u0439 \\u043f\\u043e\\u043b\\u0443\\u0447\\u0430\\u0435\\u0442 \\u043d\\u0430 \\u0432\\u0445\\u043e\\u0434 \\u0446\\u0435\\u043b\\u043e\\u0435 \\u0447\\u0438\\u0441\\u043b\\u043e \\u0438 \\u0432\\u043e\\u0437\\u0432\\u0440\\u0430\\u0449\\u0430\\u0435\\u0442 \\u0447\\u0438\\u0441\\u043b\\u043e \\u043d\\u0430 1 \\u0431\\u043e\\u043b\\u044c\\u0448\\u0435\\u0435.\", \"problem\": 6, \"type\": \"equal\", \"variants\": {\"1\": {\"1\": {\"in\": \"9\", \"out\": \"10\", \"score\": 10}, \"2\": {\"in\": \"12\", \"out\": \"13\", \"score\": 10}}}}}\n",
      "Problem 6, variant 2\n",
      "<Response [200]>\n",
      "Response code - 200, Message - {\"message\": {\"id\": \"ed284027-f538-4f7f-9aa0-c372cee8ad6b\", \"mqtt_key\": 123, \"user\": \"admin\", \"type\": \"equal\", \"course\": \"test\", \"problem\": 6, \"variant\": \"2\", \"action\": \"add_problem\", \"task\": \"\\u0417\\u0430\\u0434\\u0430\\u0447\\u0430 - \\u043d\\u0430\\u043f\\u0438\\u0441\\u0430\\u0442\\u044c \\u0430\\u043b\\u0433\\u043e\\u0440\\u0438\\u0442\\u043c, \\u043a\\u043e\\u0442\\u043e\\u0440\\u044b\\u0439 \\u043f\\u043e\\u043b\\u0443\\u0447\\u0430\\u0435\\u0442 \\u043d\\u0430 \\u0432\\u0445\\u043e\\u0434 \\u0446\\u0435\\u043b\\u043e\\u0435 \\u0447\\u0438\\u0441\\u043b\\u043e \\u0438 \\u0432\\u043e\\u0437\\u0432\\u0440\\u0430\\u0449\\u0430\\u0435\\u0442 \\u0447\\u0438\\u0441\\u043b\\u043e \\u043d\\u0430 1 \\u0431\\u043e\\u043b\\u044c\\u0448\\u0435\\u0435.\", \"tests\": {\"1\": {\"in\": \"14\", \"out\": \"15\", \"score\": 10}, \"2\": {\"in\": \"16\", \"out\": \"17\", \"score\": 10}}, \"timestamp\": 1669584365}, \"result\": {\"task\": \"\\u0417\\u0430\\u0434\\u0430\\u0447\\u0430 - \\u043d\\u0430\\u043f\\u0438\\u0441\\u0430\\u0442\\u044c \\u0430\\u043b\\u0433\\u043e\\u0440\\u0438\\u0442\\u043c, \\u043a\\u043e\\u0442\\u043e\\u0440\\u044b\\u0439 \\u043f\\u043e\\u043b\\u0443\\u0447\\u0430\\u0435\\u0442 \\u043d\\u0430 \\u0432\\u0445\\u043e\\u0434 \\u0446\\u0435\\u043b\\u043e\\u0435 \\u0447\\u0438\\u0441\\u043b\\u043e \\u0438 \\u0432\\u043e\\u0437\\u0432\\u0440\\u0430\\u0449\\u0430\\u0435\\u0442 \\u0447\\u0438\\u0441\\u043b\\u043e \\u043d\\u0430 1 \\u0431\\u043e\\u043b\\u044c\\u0448\\u0435\\u0435.\", \"problem\": 6, \"type\": \"equal\", \"variants\": {\"1\": {\"1\": {\"in\": \"9\", \"out\": \"10\", \"score\": 10}, \"2\": {\"in\": \"12\", \"out\": \"13\", \"score\": 10}}, \"2\": {\"1\": {\"in\": \"14\", \"out\": \"15\", \"score\": 10}, \"2\": {\"in\": \"16\", \"out\": \"17\", \"score\": 10}}}}}\n"
     ]
    }
   ],
   "source": [
    "course = \"test\"\n",
    "with open(\"test.json\") as f:\n",
    "    data = json.load(f)\n",
    "for p in data:\n",
    "    for v in p[\"variants\"]:\n",
    "        print(f'Problem {p[\"problem\"]}, variant {v}')\n",
    "        id = str(uuid.uuid4())\n",
    "        message = {\n",
    "            \"id\": id, \n",
    "            \"mqtt_key\": 123,\n",
    "            \"user\": \"admin\", \n",
    "            \"type\": p[\"type\"], \n",
    "            \"course\": course, \n",
    "            \"problem\": p[\"problem\"], \n",
    "            \"variant\": v,\n",
    "            \"action\": \"add_problem\",\n",
    "            \"task\": p.get(\"task\", \"\"),\n",
    "            \"tests\": p[\"variants\"][v]\n",
    "        }\n",
    "        r = requests.post(\"http://localhost:8000/api/add_message\", json=message)\n",
    "        print(f\"{r}\")\n",
    "        message = { \"id\": id }\n",
    "        while True:\n",
    "            time.sleep(1)\n",
    "            resp = requests.post(\"http://localhost:8000/api/get_message_result\", json=message)\n",
    "            if resp.status_code == 200 and 'message' in resp.text:\n",
    "                break\n",
    "                print(f\"{resp.json()}\")"
   ]
  },
  {
   "cell_type": "code",
   "execution_count": null,
   "id": "1206eed0",
   "metadata": {},
   "outputs": [],
   "source": []
  }
 ],
 "metadata": {
  "kernelspec": {
   "display_name": "Python 3",
   "language": "python",
   "name": "python3"
  },
  "language_info": {
   "codemirror_mode": {
    "name": "ipython",
    "version": 3
   },
   "file_extension": ".py",
   "mimetype": "text/x-python",
   "name": "python",
   "nbconvert_exporter": "python",
   "pygments_lexer": "ipython3",
   "version": "3.8.8"
  }
 },
 "nbformat": 4,
 "nbformat_minor": 5
}
