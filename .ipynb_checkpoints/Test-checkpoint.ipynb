{
 "cells": [
  {
   "cell_type": "code",
   "execution_count": 123,
   "id": "68103e14",
   "metadata": {},
   "outputs": [],
   "source": [
    "import requests\n",
    "import uuid\n",
    "import json"
   ]
  },
  {
   "cell_type": "markdown",
   "id": "b69e63ae",
   "metadata": {},
   "source": [
    "# ПОЛУЧАЕМ ДАННЫЕ О СПИСКЕ КОЛЛЕКЦИЙ"
   ]
  },
  {
   "cell_type": "code",
   "execution_count": 99,
   "id": "21042d58",
   "metadata": {},
   "outputs": [
    {
     "data": {
      "text/plain": [
       "<Response [200]>"
      ]
     },
     "execution_count": 99,
     "metadata": {},
     "output_type": "execute_result"
    }
   ],
   "source": [
    "id = str(uuid.uuid4())\n",
    "message = { \"id\": id, \"mqtt_key\": \"234\", \"user\": \"2321\", \"type\": \"courses\", \"data_key\": \"\",\"action\": \"get_data\" }\n",
    "resp = requests.post(\"http://localhost:8000/api/add_message\", json=message)\n",
    "resp"
   ]
  },
  {
   "cell_type": "code",
   "execution_count": 101,
   "id": "29c1948e",
   "metadata": {},
   "outputs": [
    {
     "data": {
      "text/plain": [
       "{'message': {'id': '5eb7c9e3-6fd8-4fb5-886a-a7956511edaa',\n",
       "  'mqtt_key': '234',\n",
       "  'user': '2321',\n",
       "  'type': 'courses',\n",
       "  'data_key': '',\n",
       "  'action': 'get_data',\n",
       "  'timestamp': 1669464208},\n",
       " 'result': {'courses': ['programming', 'test']}}"
      ]
     },
     "execution_count": 101,
     "metadata": {},
     "output_type": "execute_result"
    }
   ],
   "source": [
    "message = { \"id\": id }\n",
    "resp = requests.post(\"http://localhost:8000/api/get_message_result\", json=message)\n",
    "resp.json()"
   ]
  },
  {
   "cell_type": "markdown",
   "id": "74b4bd45",
   "metadata": {},
   "source": [
    "# ПОЛУЧАЕМ ДАННЫЕ О СТРУКТУРЕ КОЛЛЕКЦИИ"
   ]
  },
  {
   "cell_type": "code",
   "execution_count": 118,
   "id": "4119db4e",
   "metadata": {},
   "outputs": [
    {
     "data": {
      "text/plain": [
       "<Response [200]>"
      ]
     },
     "execution_count": 118,
     "metadata": {},
     "output_type": "execute_result"
    }
   ],
   "source": [
    "id = str(uuid.uuid4())\n",
    "message = { \"id\": id, \"mqtt_key\": \"234\", \"user\": \"2321\", \"type\": \"problems\", \"data_key\": \"programming\", \"action\": \"get_data\" }\n",
    "resp = requests.post(\"http://localhost:8000/api/add_message\", json=message)\n",
    "resp"
   ]
  },
  {
   "cell_type": "code",
   "execution_count": 121,
   "id": "d230734b",
   "metadata": {},
   "outputs": [
    {
     "data": {
      "text/plain": [
       "<Response [200]>"
      ]
     },
     "execution_count": 121,
     "metadata": {},
     "output_type": "execute_result"
    }
   ],
   "source": [
    "message = { \"id\": id }\n",
    "resp = requests.post(\"http://localhost:8000/api/get_message_result\", json=message)\n",
    "resp"
   ]
  },
  {
   "cell_type": "code",
   "execution_count": 122,
   "id": "667c938c",
   "metadata": {},
   "outputs": [
    {
     "data": {
      "text/plain": [
       "{'message': {'id': '5c27a3dd-a932-4912-8409-0534558795d0',\n",
       "  'mqtt_key': '234',\n",
       "  'user': '2321',\n",
       "  'type': 'problems',\n",
       "  'data_key': 'programming',\n",
       "  'action': 'get_data',\n",
       "  'timestamp': 1669465071},\n",
       " 'result': {'problems': [{'1': ['1', '2'], 'task': ''},\n",
       "   {'2': ['1', '2'], 'task': ''},\n",
       "   {'3': ['1'],\n",
       "    'task': 'Задача - написать алгоритм, который получает на вход целое число и возвращает число на 1 большее.'}]}}"
      ]
     },
     "execution_count": 122,
     "metadata": {},
     "output_type": "execute_result"
    }
   ],
   "source": [
    "resp.json()"
   ]
  },
  {
   "cell_type": "markdown",
   "id": "ee58930f",
   "metadata": {},
   "source": [
    "# ДОБАВЛЕНИЕ ЗАДАЧ ИЗ ФАЙЛА"
   ]
  },
  {
   "cell_type": "code",
   "execution_count": 133,
   "id": "083dda3f",
   "metadata": {},
   "outputs": [
    {
     "name": "stdout",
     "output_type": "stream",
     "text": [
      "{'problem': 4, 'type': 'equal', 'task': 'Задача - написать алгоритм, который получает на вход целое число и возвращает число на 1 большее.', 'variants': {'1': {'1': {'in': '1', 'out': '2', 'score': 10}, '2': {'in': '2', 'out': '3', 'score': 10}}, '2': {'1': {'in': '4', 'out': '5', 'score': 10}, '2': {'in': '6', 'out': '7', 'score': 10}}}}\n"
     ]
    },
    {
     "ename": "KeyError",
     "evalue": "'1'",
     "output_type": "error",
     "traceback": [
      "\u001b[0;31m---------------------------------------------------------------------------\u001b[0m",
      "\u001b[0;31mKeyError\u001b[0m                                  Traceback (most recent call last)",
      "\u001b[0;32m<ipython-input-133-eb253d8628d9>\u001b[0m in \u001b[0;36m<module>\u001b[0;34m\u001b[0m\n\u001b[1;32m     17\u001b[0m             \u001b[0;34m\"action\"\u001b[0m\u001b[0;34m:\u001b[0m \u001b[0;34m\"add_problem\"\u001b[0m\u001b[0;34m,\u001b[0m\u001b[0;34m\u001b[0m\u001b[0;34m\u001b[0m\u001b[0m\n\u001b[1;32m     18\u001b[0m             \u001b[0;34m\"task\"\u001b[0m\u001b[0;34m:\u001b[0m \u001b[0mp\u001b[0m\u001b[0;34m.\u001b[0m\u001b[0mget\u001b[0m\u001b[0;34m(\u001b[0m\u001b[0;34m\"task\"\u001b[0m\u001b[0;34m,\u001b[0m \u001b[0;34m\"\"\u001b[0m\u001b[0;34m)\u001b[0m\u001b[0;34m,\u001b[0m\u001b[0;34m\u001b[0m\u001b[0;34m\u001b[0m\u001b[0m\n\u001b[0;32m---> 19\u001b[0;31m             \u001b[0;34m\"tests\"\u001b[0m\u001b[0;34m:\u001b[0m \u001b[0mp\u001b[0m\u001b[0;34m[\u001b[0m\u001b[0mv\u001b[0m\u001b[0;34m]\u001b[0m\u001b[0;34m\u001b[0m\u001b[0;34m\u001b[0m\u001b[0m\n\u001b[0m\u001b[1;32m     20\u001b[0m         }\n\u001b[1;32m     21\u001b[0m         \u001b[0mr\u001b[0m \u001b[0;34m=\u001b[0m \u001b[0mrequests\u001b[0m\u001b[0;34m.\u001b[0m\u001b[0mpost\u001b[0m\u001b[0;34m(\u001b[0m\u001b[0;34m\"http://localhost:8000/api/add_message\"\u001b[0m\u001b[0;34m,\u001b[0m \u001b[0mjson\u001b[0m\u001b[0;34m=\u001b[0m\u001b[0mmessage\u001b[0m\u001b[0;34m)\u001b[0m\u001b[0;34m\u001b[0m\u001b[0;34m\u001b[0m\u001b[0m\n",
      "\u001b[0;31mKeyError\u001b[0m: '1'"
     ]
    }
   ],
   "source": [
    "course = \"test\"\n",
    "with open(\"test.json\") as f:\n",
    "    data = json.load(f)\n",
    "for p in data:\n",
    "    print(p)\n",
    "    for v in p[\"variants\"]:\n",
    "        #print(f\"Problem {p[\"problem\"]}, variant {v}\")\n",
    "        id = str(uuid.uuid4())\n",
    "        message = {\n",
    "            \"id\": id, \n",
    "            \"mqtt_key\": 123, \n",
    "            \"user\": \"admin\", \n",
    "            \"type\": p[\"type\"], \n",
    "            \"course\": course, \n",
    "            \"problem\": p[\"problem\"], \n",
    "            \"variant\": v,\n",
    "            \"action\": \"add_problem\",\n",
    "            \"task\": p.get(\"task\", \"\"),\n",
    "            \"tests\": p[\"variants\"][v]\n",
    "        }\n",
    "        r = requests.post(\"http://localhost:8000/api/add_message\", json=message)\n",
    "        print(f\"{r}\")"
   ]
  },
  {
   "cell_type": "code",
   "execution_count": null,
   "id": "7341c2fc",
   "metadata": {},
   "outputs": [],
   "source": []
  }
 ],
 "metadata": {
  "kernelspec": {
   "display_name": "Python 3",
   "language": "python",
   "name": "python3"
  },
  "language_info": {
   "codemirror_mode": {
    "name": "ipython",
    "version": 3
   },
   "file_extension": ".py",
   "mimetype": "text/x-python",
   "name": "python",
   "nbconvert_exporter": "python",
   "pygments_lexer": "ipython3",
   "version": "3.8.8"
  }
 },
 "nbformat": 4,
 "nbformat_minor": 5
}
