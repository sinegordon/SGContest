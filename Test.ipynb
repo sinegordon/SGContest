{
 "cells": [
  {
   "cell_type": "code",
   "execution_count": 94,
   "id": "1223fb81",
   "metadata": {},
   "outputs": [],
   "source": [
    "import requests\n",
    "import uuid"
   ]
  },
  {
   "cell_type": "markdown",
   "id": "bbdefd8f",
   "metadata": {},
   "source": [
    "# ПОЛУЧАЕМ ДАННЫЕ О СПИСКЕ КОЛЛЕКЦИЙ"
   ]
  },
  {
   "cell_type": "code",
   "execution_count": 99,
   "id": "df01fb28",
   "metadata": {},
   "outputs": [
    {
     "data": {
      "text/plain": [
       "<Response [200]>"
      ]
     },
     "execution_count": 99,
     "metadata": {},
     "output_type": "execute_result"
    }
   ],
   "source": [
    "id = str(uuid.uuid4())\n",
    "message = { \"id\": id, \"mqtt_key\": \"234\", \"user\": \"2321\", \"type\": \"courses\", \"data_key\": \"\",\"action\": \"get_data\" }\n",
    "resp = requests.post(\"http://localhost:8000/api/add_message\", json=message)\n",
    "resp"
   ]
  },
  {
   "cell_type": "code",
   "execution_count": 101,
   "id": "ab616b9b",
   "metadata": {},
   "outputs": [
    {
     "data": {
      "text/plain": [
       "{'message': {'id': '5eb7c9e3-6fd8-4fb5-886a-a7956511edaa',\n",
       "  'mqtt_key': '234',\n",
       "  'user': '2321',\n",
       "  'type': 'courses',\n",
       "  'data_key': '',\n",
       "  'action': 'get_data',\n",
       "  'timestamp': 1669464208},\n",
       " 'result': {'courses': ['programming', 'test']}}"
      ]
     },
     "execution_count": 101,
     "metadata": {},
     "output_type": "execute_result"
    }
   ],
   "source": [
    "message = { \"id\": id }\n",
    "resp = requests.post(\"http://localhost:8000/api/get_message_result\", json=message)\n",
    "resp.json()"
   ]
  },
  {
   "cell_type": "markdown",
   "id": "4f14f7df",
   "metadata": {},
   "source": [
    "# ПОЛУЧАЕМ ДАННЫЕ О СТРУКТУРЕ КОЛЛЕКЦИИ"
   ]
  },
  {
   "cell_type": "code",
   "execution_count": 118,
   "id": "7da7c98b",
   "metadata": {},
   "outputs": [
    {
     "data": {
      "text/plain": [
       "<Response [200]>"
      ]
     },
     "execution_count": 118,
     "metadata": {},
     "output_type": "execute_result"
    }
   ],
   "source": [
    "id = str(uuid.uuid4())\n",
    "message = { \"id\": id, \"mqtt_key\": \"234\", \"user\": \"2321\", \"type\": \"problems\", \"data_key\": \"programming\", \"action\": \"get_data\" }\n",
    "resp = requests.post(\"http://localhost:8000/api/add_message\", json=message)\n",
    "resp"
   ]
  },
  {
   "cell_type": "code",
   "execution_count": 121,
   "id": "bdb93e51",
   "metadata": {},
   "outputs": [
    {
     "data": {
      "text/plain": [
       "<Response [200]>"
      ]
     },
     "execution_count": 121,
     "metadata": {},
     "output_type": "execute_result"
    }
   ],
   "source": [
    "message = { \"id\": id }\n",
    "resp = requests.post(\"http://localhost:8000/api/get_message_result\", json=message)\n",
    "resp"
   ]
  },
  {
   "cell_type": "code",
   "execution_count": 122,
   "id": "39cb250b",
   "metadata": {},
   "outputs": [
    {
     "data": {
      "text/plain": [
       "{'message': {'id': '5c27a3dd-a932-4912-8409-0534558795d0',\n",
       "  'mqtt_key': '234',\n",
       "  'user': '2321',\n",
       "  'type': 'problems',\n",
       "  'data_key': 'programming',\n",
       "  'action': 'get_data',\n",
       "  'timestamp': 1669465071},\n",
       " 'result': {'problems': [{'1': ['1', '2'], 'task': ''},\n",
       "   {'2': ['1', '2'], 'task': ''},\n",
       "   {'3': ['1'],\n",
       "    'task': 'Задача - написать алгоритм, который получает на вход целое число и возвращает число на 1 большее.'}]}}"
      ]
     },
     "execution_count": 122,
     "metadata": {},
     "output_type": "execute_result"
    }
   ],
   "source": [
    "resp.json()"
   ]
  },
  {
   "cell_type": "code",
   "execution_count": null,
   "id": "3cbe39a0",
   "metadata": {},
   "outputs": [],
   "source": []
  }
 ],
 "metadata": {
  "kernelspec": {
   "display_name": "Python 3",
   "language": "python",
   "name": "python3"
  },
  "language_info": {
   "codemirror_mode": {
    "name": "ipython",
    "version": 3
   },
   "file_extension": ".py",
   "mimetype": "text/x-python",
   "name": "python",
   "nbconvert_exporter": "python",
   "pygments_lexer": "ipython3",
   "version": "3.8.8"
  }
 },
 "nbformat": 4,
 "nbformat_minor": 5
}
