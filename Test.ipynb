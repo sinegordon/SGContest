{
 "cells": [
  {
   "cell_type": "code",
   "execution_count": 1,
   "id": "a77612e3",
   "metadata": {},
   "outputs": [],
   "source": [
    "import requests\n",
    "import uuid\n",
    "import json\n",
    "import time"
   ]
  },
  {
   "cell_type": "markdown",
   "id": "a9a67624",
   "metadata": {},
   "source": [
    "# ПОЛУЧАЕМ ДАННЫЕ О СПИСКЕ КОЛЛЕКЦИЙ"
   ]
  },
  {
   "cell_type": "code",
   "execution_count": 13,
   "id": "296becd4",
   "metadata": {},
   "outputs": [
    {
     "data": {
      "text/plain": [
       "<Response [200]>"
      ]
     },
     "execution_count": 13,
     "metadata": {},
     "output_type": "execute_result"
    }
   ],
   "source": [
    "id = str(uuid.uuid4())\n",
    "message = { \"id\": id, \"mqtt_key\": \"234\", \"user\": \"2321\", \"type\": \"courses\", \"data_key\": \"\",\"action\": \"get_data\" }\n",
    "resp = requests.post(\"http://localhost:8000/api/add_message\", json=message)\n",
    "resp"
   ]
  },
  {
   "cell_type": "code",
   "execution_count": 14,
   "id": "c8f289d7",
   "metadata": {},
   "outputs": [
    {
     "data": {
      "text/plain": [
       "{'message': {'id': '0f54f511-6152-46c6-ab1d-12b393b861c9',\n",
       "  'mqtt_key': '234',\n",
       "  'user': '2321',\n",
       "  'type': 'courses',\n",
       "  'data_key': '',\n",
       "  'action': 'get_data',\n",
       "  'timestamp': 1669655171},\n",
       " 'result': {'courses': ['test']}}"
      ]
     },
     "execution_count": 14,
     "metadata": {},
     "output_type": "execute_result"
    }
   ],
   "source": [
    "message = { \"id\": id }\n",
    "resp = requests.post(\"http://localhost:57888/api/get_message_result\", json=message)\n",
    "resp.json()"
   ]
  },
  {
   "cell_type": "markdown",
   "id": "bbc760ac",
   "metadata": {},
   "source": [
    "# ПОЛУЧАЕМ ДАННЫЕ О СТРУКТУРЕ КОЛЛЕКЦИИ"
   ]
  },
  {
   "cell_type": "code",
   "execution_count": 27,
   "id": "c96ee035",
   "metadata": {},
   "outputs": [
    {
     "data": {
      "text/plain": [
       "<Response [200]>"
      ]
     },
     "execution_count": 27,
     "metadata": {},
     "output_type": "execute_result"
    }
   ],
   "source": [
    "id = str(uuid.uuid4())\n",
    "message = { \"id\": id, \"mqtt_key\": \"234\", \"user\": \"2321\", \"type\": \"problems\", \"data_key\": \"test\", \"action\": \"get_data\" }\n",
    "resp = requests.post(\"http://cluster.vstu.ru:57888/api/add_message\", json=message)\n",
    "resp"
   ]
  },
  {
   "cell_type": "code",
   "execution_count": 29,
   "id": "cd1a20a5",
   "metadata": {},
   "outputs": [
    {
     "data": {
      "text/plain": [
       "<Response [200]>"
      ]
     },
     "execution_count": 29,
     "metadata": {},
     "output_type": "execute_result"
    }
   ],
   "source": [
    "message = { \"id\": id }\n",
    "resp = requests.post(\n",
    "    \"http://cluster.vstu.ru:57888/api/get_message_result\", json=message)\n",
    "resp\n"
   ]
  },
  {
   "cell_type": "code",
   "execution_count": 30,
   "id": "cfa924cb",
   "metadata": {},
   "outputs": [
    {
     "data": {
      "text/plain": [
       "{'message': {'id': 'bb56af03-e83e-493e-9a2e-1a73bf80a1f4',\n",
       "  'mqtt_key': '234',\n",
       "  'user': '2321',\n",
       "  'type': 'problems',\n",
       "  'data_key': 'test',\n",
       "  'action': 'get_data',\n",
       "  'timestamp': 1669822065},\n",
       " 'result': {'problems': [{'1': ['1', '2'],\n",
       "    'task': 'Задача - написать алгоритм, который получает на вход целое число и возвращает число на 1 большее.'},\n",
       "   {'2': ['1', '2'],\n",
       "    'task': 'Задача - написать алгоритм, который получает на вход целое число и возвращает число на 1 большее.'}]}}"
      ]
     },
     "execution_count": 30,
     "metadata": {},
     "output_type": "execute_result"
    }
   ],
   "source": [
    "resp.json()"
   ]
  },
  {
   "cell_type": "markdown",
   "id": "a91940d4",
   "metadata": {},
   "source": [
    "# ДОБАВЛЕНИЕ ЗАДАЧ ИЗ ФАЙЛА"
   ]
  },
  {
   "cell_type": "code",
   "execution_count": 33,
   "id": "3a535f3f",
   "metadata": {},
   "outputs": [
    {
     "name": "stdout",
     "output_type": "stream",
     "text": [
      "Problem 1, variant 1\n",
      "<Response [200]>\n",
      "Problem 1, variant 2\n",
      "<Response [200]>\n",
      "Problem 2, variant 1\n",
      "<Response [200]>\n",
      "Problem 2, variant 2\n",
      "<Response [200]>\n"
     ]
    }
   ],
   "source": [
    "course = \"test\"\n",
    "addr = \"http://cluster.vstu.ru:57888\"\n",
    "with open(\"test.json\", encoding='utf-8') as f:\n",
    "    data = json.load(f)\n",
    "for p in data:\n",
    "    for v in p[\"variants\"]:\n",
    "        print(f'Problem {p[\"problem\"]}, variant {v}')\n",
    "        id = str(uuid.uuid4())\n",
    "        message = {\n",
    "            \"id\": id, \n",
    "            \"mqtt_key\": 123,\n",
    "            \"user\": \"admin\", \n",
    "            \"type\": p[\"type\"], \n",
    "            \"course\": course, \n",
    "            \"problem\": p[\"problem\"], \n",
    "            \"variant\": v,\n",
    "            \"action\": \"add_problem\",\n",
    "            \"task\": p.get(\"task\", \"\"),\n",
    "            \"tests\": p[\"variants\"][v]\n",
    "        }\n",
    "        r = requests.post(f\"{addr}/api/add_message\", json=message)\n",
    "        print(f\"{r}\")\n",
    "        message = { \"id\": id }\n",
    "        while True:\n",
    "            time.sleep(1)\n",
    "            resp = requests.post(f\"{addr}/api/get_message_result\", json=message)\n",
    "            if resp.status_code == 200 and 'message' in resp.text:\n",
    "                break\n",
    "                print(f\"{resp.json()}\")\n"
   ]
  },
  {
   "cell_type": "code",
   "execution_count": null,
   "id": "49b663f5",
   "metadata": {},
   "outputs": [],
   "source": []
  }
 ],
 "metadata": {
  "kernelspec": {
   "display_name": "Python 3.8.8 ('base')",
   "language": "python",
   "name": "python3"
  },
  "language_info": {
   "codemirror_mode": {
    "name": "ipython",
    "version": 3
   },
   "file_extension": ".py",
   "mimetype": "text/x-python",
   "name": "python",
   "nbconvert_exporter": "python",
   "pygments_lexer": "ipython3",
   "version": "3.8.8"
  },
  "vscode": {
   "interpreter": {
    "hash": "a077222d77dfe082b8f1dd562ad70e458ac2ab76993a0b248ab0476e32e9e8dd"
   }
  }
 },
 "nbformat": 4,
 "nbformat_minor": 5
}
