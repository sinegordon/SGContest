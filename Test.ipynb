{
 "cells": [
  {
   "cell_type": "code",
   "execution_count": 139,
   "id": "70bf1482",
   "metadata": {},
   "outputs": [],
   "source": [
    "import requests\n",
    "import uuid\n",
    "import json\n",
    "import time"
   ]
  },
  {
   "cell_type": "markdown",
   "id": "fbb47172",
   "metadata": {},
   "source": [
    "# ПОЛУЧАЕМ ДАННЫЕ О СПИСКЕ КОЛЛЕКЦИЙ"
   ]
  },
  {
   "cell_type": "code",
   "execution_count": 99,
   "id": "038d0c95",
   "metadata": {},
   "outputs": [
    {
     "data": {
      "text/plain": [
       "<Response [200]>"
      ]
     },
     "execution_count": 99,
     "metadata": {},
     "output_type": "execute_result"
    }
   ],
   "source": [
    "id = str(uuid.uuid4())\n",
    "message = { \"id\": id, \"mqtt_key\": \"234\", \"user\": \"2321\", \"type\": \"courses\", \"data_key\": \"\",\"action\": \"get_data\" }\n",
    "resp = requests.post(\"http://localhost:8000/api/add_message\", json=message)\n",
    "resp"
   ]
  },
  {
   "cell_type": "code",
   "execution_count": 101,
   "id": "161e0988",
   "metadata": {},
   "outputs": [
    {
     "data": {
      "text/plain": [
       "{'message': {'id': '5eb7c9e3-6fd8-4fb5-886a-a7956511edaa',\n",
       "  'mqtt_key': '234',\n",
       "  'user': '2321',\n",
       "  'type': 'courses',\n",
       "  'data_key': '',\n",
       "  'action': 'get_data',\n",
       "  'timestamp': 1669464208},\n",
       " 'result': {'courses': ['programming', 'test']}}"
      ]
     },
     "execution_count": 101,
     "metadata": {},
     "output_type": "execute_result"
    }
   ],
   "source": [
    "message = { \"id\": id }\n",
    "resp = requests.post(\"http://localhost:8000/api/get_message_result\", json=message)\n",
    "resp.json()"
   ]
  },
  {
   "cell_type": "markdown",
   "id": "af5e7f06",
   "metadata": {},
   "source": [
    "# ПОЛУЧАЕМ ДАННЫЕ О СТРУКТУРЕ КОЛЛЕКЦИИ"
   ]
  },
  {
   "cell_type": "code",
   "execution_count": 118,
   "id": "f9954e10",
   "metadata": {},
   "outputs": [
    {
     "data": {
      "text/plain": [
       "<Response [200]>"
      ]
     },
     "execution_count": 118,
     "metadata": {},
     "output_type": "execute_result"
    }
   ],
   "source": [
    "id = str(uuid.uuid4())\n",
    "message = { \"id\": id, \"mqtt_key\": \"234\", \"user\": \"2321\", \"type\": \"problems\", \"data_key\": \"programming\", \"action\": \"get_data\" }\n",
    "resp = requests.post(\"http://localhost:8000/api/add_message\", json=message)\n",
    "resp"
   ]
  },
  {
   "cell_type": "code",
   "execution_count": 121,
   "id": "ba92943e",
   "metadata": {},
   "outputs": [
    {
     "data": {
      "text/plain": [
       "<Response [200]>"
      ]
     },
     "execution_count": 121,
     "metadata": {},
     "output_type": "execute_result"
    }
   ],
   "source": [
    "message = { \"id\": id }\n",
    "resp = requests.post(\"http://localhost:8000/api/get_message_result\", json=message)\n",
    "resp"
   ]
  },
  {
   "cell_type": "code",
   "execution_count": 122,
   "id": "635c8f1e",
   "metadata": {},
   "outputs": [
    {
     "data": {
      "text/plain": [
       "{'message': {'id': '5c27a3dd-a932-4912-8409-0534558795d0',\n",
       "  'mqtt_key': '234',\n",
       "  'user': '2321',\n",
       "  'type': 'problems',\n",
       "  'data_key': 'programming',\n",
       "  'action': 'get_data',\n",
       "  'timestamp': 1669465071},\n",
       " 'result': {'problems': [{'1': ['1', '2'], 'task': ''},\n",
       "   {'2': ['1', '2'], 'task': ''},\n",
       "   {'3': ['1'],\n",
       "    'task': 'Задача - написать алгоритм, который получает на вход целое число и возвращает число на 1 большее.'}]}}"
      ]
     },
     "execution_count": 122,
     "metadata": {},
     "output_type": "execute_result"
    }
   ],
   "source": [
    "resp.json()"
   ]
  },
  {
   "cell_type": "markdown",
   "id": "830a9281",
   "metadata": {},
   "source": [
    "# ДОБАВЛЕНИЕ ЗАДАЧ ИЗ ФАЙЛА"
   ]
  },
  {
   "cell_type": "code",
   "execution_count": 142,
   "id": "5a723c55",
   "metadata": {},
   "outputs": [
    {
     "name": "stdout",
     "output_type": "stream",
     "text": [
      "Problem 3, variant 1\n",
      "<Response [200]>\n",
      "Problem 3, variant 2\n",
      "<Response [200]>\n",
      "Problem 4, variant 1\n",
      "<Response [200]>\n",
      "Problem 4, variant 2\n",
      "<Response [200]>\n"
     ]
    }
   ],
   "source": [
    "course = \"test\"\n",
    "with open(\"test.json\") as f:\n",
    "    data = json.load(f)\n",
    "for p in data:\n",
    "    for v in p[\"variants\"]:\n",
    "        print(f'Problem {p[\"problem\"]}, variant {v}')\n",
    "        id = str(uuid.uuid4())\n",
    "        message = {\n",
    "            \"id\": id, \n",
    "            \"mqtt_key\": 123, \n",
    "            \"user\": \"admin\", \n",
    "            \"type\": p[\"type\"], \n",
    "            \"course\": course, \n",
    "            \"problem\": p[\"problem\"], \n",
    "            \"variant\": v,\n",
    "            \"action\": \"add_problem\",\n",
    "            \"task\": p.get(\"task\", \"\"),\n",
    "            \"tests\": p[\"variants\"][v]\n",
    "        }\n",
    "        r = requests.post(\"http://localhost:8000/api/add_message\", json=message)\n",
    "        print(f\"{r}\")\n",
    "        message = { \"id\": id }\n",
    "        while True:\n",
    "            resp = requests.post(\"http://localhost:8000/api/get_message_result\", json=message)\n",
    "            if 'error' not in resp:\n",
    "                break\n",
    "            time.sleep(1)"
   ]
  },
  {
   "cell_type": "code",
   "execution_count": null,
   "id": "b41b560c",
   "metadata": {},
   "outputs": [],
   "source": []
  }
 ],
 "metadata": {
  "kernelspec": {
   "display_name": "Python 3",
   "language": "python",
   "name": "python3"
  },
  "language_info": {
   "codemirror_mode": {
    "name": "ipython",
    "version": 3
   },
   "file_extension": ".py",
   "mimetype": "text/x-python",
   "name": "python",
   "nbconvert_exporter": "python",
   "pygments_lexer": "ipython3",
   "version": "3.8.8"
  }
 },
 "nbformat": 4,
 "nbformat_minor": 5
}
