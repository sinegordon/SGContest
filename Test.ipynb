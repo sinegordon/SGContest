{
 "cells": [
  {
   "cell_type": "code",
   "execution_count": 3,
   "id": "a77612e3",
   "metadata": {},
   "outputs": [],
   "source": [
    "import requests\n",
    "import uuid\n",
    "import json\n",
    "import time\n",
    "import os\n",
    "import random"
   ]
  },
  {
   "attachments": {},
   "cell_type": "markdown",
   "id": "a9a67624",
   "metadata": {},
   "source": [
    "# ПОЛУЧАЕМ ДАННЫЕ О СПИСКЕ КОЛЛЕКЦИЙ"
   ]
  },
  {
   "cell_type": "code",
   "execution_count": 6,
   "id": "296becd4",
   "metadata": {},
   "outputs": [
    {
     "data": {
      "text/plain": [
       "{'jsonrpc': '2.0',\n",
       " 'result': {'courses': []},\n",
       " 'id': '280d754e-05b7-420f-9b24-fe3636f33dc1'}"
      ]
     },
     "execution_count": 6,
     "metadata": {},
     "output_type": "execute_result"
    }
   ],
   "source": [
    "addr = \"http://62.76.72.55:57888\"\n",
    "#addr = \"http://localhost:57888\"\n",
    "id = str(uuid.uuid4())\n",
    "message = { \"jsonrpc\": \"2.0\", \"id\": id, \"method\": \"get_courses_data\", \"params\":{\"mqtt_key\": \"234\", \"user\": \"2321\", \"type\": \"courses\", \"data_key\": \"\",\"action\": \"get_data\"}}\n",
    "resp = requests.post(f\"{addr}/api/run\", json=message)\n",
    "resp.json()"
   ]
  },
  {
   "cell_type": "code",
   "execution_count": 2,
   "id": "c8f289d7",
   "metadata": {},
   "outputs": [
    {
     "ename": "NameError",
     "evalue": "name 'requests' is not defined",
     "output_type": "error",
     "traceback": [
      "\u001b[0;31m---------------------------------------------------------------------------\u001b[0m",
      "\u001b[0;31mNameError\u001b[0m                                 Traceback (most recent call last)",
      "Cell \u001b[0;32mIn[2], line 3\u001b[0m\n\u001b[1;32m      1\u001b[0m message \u001b[39m=\u001b[39m { \u001b[39m\"\u001b[39m\u001b[39mid\u001b[39m\u001b[39m\"\u001b[39m: \u001b[39mid\u001b[39m }\n\u001b[1;32m      2\u001b[0m message \u001b[39m=\u001b[39m { \u001b[39m\"\u001b[39m\u001b[39mjsonrpc\u001b[39m\u001b[39m\"\u001b[39m: \u001b[39m\"\u001b[39m\u001b[39m2.0\u001b[39m\u001b[39m\"\u001b[39m, \u001b[39m\"\u001b[39m\u001b[39mid\u001b[39m\u001b[39m\"\u001b[39m: \u001b[39mid\u001b[39m, \u001b[39m\"\u001b[39m\u001b[39mmethod\u001b[39m\u001b[39m\"\u001b[39m: \u001b[39m\"\u001b[39m\u001b[39mget_message_result\u001b[39m\u001b[39m\"\u001b[39m, \u001b[39m\"\u001b[39m\u001b[39mparams\u001b[39m\u001b[39m\"\u001b[39m:{}}\n\u001b[0;32m----> 3\u001b[0m resp \u001b[39m=\u001b[39m requests\u001b[39m.\u001b[39mpost(\u001b[39m\"\u001b[39m\u001b[39mhttp://localhost:57888/api/run\u001b[39m\u001b[39m\"\u001b[39m, json\u001b[39m=\u001b[39mmessage)\n\u001b[1;32m      4\u001b[0m resp\u001b[39m.\u001b[39mjson()\n",
      "\u001b[0;31mNameError\u001b[0m: name 'requests' is not defined"
     ]
    }
   ],
   "source": [
    "message = { \"id\": id }\n",
    "message = { \"jsonrpc\": \"2.0\", \"id\": id, \"method\": \"get_message_result\", \"params\":{}}\n",
    "resp = requests.post(\"http://localhost:57888/api/run\", json=message)\n",
    "resp.json()"
   ]
  },
  {
   "attachments": {},
   "cell_type": "markdown",
   "id": "bbc760ac",
   "metadata": {},
   "source": [
    "# ПОЛУЧАЕМ ДАННЫЕ О СТРУКТУРЕ КОЛЛЕКЦИИ (АСИНХРОННЫЙ СПОСОБ)"
   ]
  },
  {
   "cell_type": "code",
   "execution_count": 8,
   "id": "c96ee035",
   "metadata": {},
   "outputs": [
    {
     "data": {
      "text/plain": [
       "<Response [200]>"
      ]
     },
     "execution_count": 8,
     "metadata": {},
     "output_type": "execute_result"
    }
   ],
   "source": [
    "id = str(uuid.uuid4())\n",
    "message = { \"jsonrpc\": \"2.0\", \"id\": id, \"method\": \"add_message\", \"params\":{\"mqtt_key\": \"234\", \"user\": \"2321\", \"type\": \"problems\", \"data_key\": \"test\", \"action\": \"get_data\"}}\n",
    "resp = requests.post(\"http://localhost:57888/api/run\", json=message)\n",
    "resp"
   ]
  },
  {
   "cell_type": "code",
   "execution_count": 9,
   "id": "cd1a20a5",
   "metadata": {},
   "outputs": [
    {
     "data": {
      "text/plain": [
       "{'jsonrpc': '2.0',\n",
       " 'result': {'result': {'get_courses_data_processor': {'problems': [{'1': ['1'],\n",
       "      'rating': 1,\n",
       "      'task': '1. Напишите программу для знакомства с человеком и приветствия его (пользователь вводит Имя и Фамилию в двух отдельных строках, программа выводит в новой строке приветствие, например, при вводе имени «Иван» и фамилии «Петров» программа выводит : «Здравствуйте, Иван Петров !»)'},\n",
       "     {'2': ['1'],\n",
       "      'rating': 3,\n",
       "      'task': '2. Напишите программу, которая выбирает максимальное и минимальное из пяти введенных чисел.'},\n",
       "     {'3': ['1'],\n",
       "      'rating': 2,\n",
       "      'task': '3. Напишите программу, которая находит среднее из пяти введенных чисел.'},\n",
       "     {'4': ['1'],\n",
       "      'rating': 2,\n",
       "      'task': '4. Найти периметр и площадь прямоугольного треугольника, если даны длины его катетов a и b. Значения а и b вводятся с клавиатуры.'},\n",
       "     {'5': ['1'],\n",
       "      'rating': 3,\n",
       "      'task': '5. Дана длина ребра куба. Найти площадь грани, площадь полной поверхности и объем этого куба. Длина ребра куба вводится с клавиатуры'},\n",
       "     {'6': ['1'],\n",
       "      'rating': 3,\n",
       "      'task': '6. Автомат принимает трехзначное положительное число, вычисляет сумму двух старших разрядов (сотен и десятков), а также сумму двух младших разрядов (десятков и единиц). Затем эти суммы выводятся на экран (без пробелов). Напишите программу, которая моделирует работу автомата.'},\n",
       "     {'7': ['1'],\n",
       "      'rating': 2,\n",
       "      'task': '7. Напишите программу, которая считает сумму цифр введенного числа.'},\n",
       "     {'8': ['1'],\n",
       "      'rating': 1,\n",
       "      'task': '8. Напишите программу, которая считает количество четных цифр введенного четырехзначного числа.'},\n",
       "     {'9': ['1'],\n",
       "      'rating': 2,\n",
       "      'task': ' 9. Напишите программу, которая выводит на экран четные степени числа 2 от 2^10 до 2^2 в порядке убывания.'},\n",
       "     {'10': ['1'],\n",
       "      'rating': 3,\n",
       "      'task': '10. Напишите программу, которая вводит с клавиатуры 10 чисел и вычисляет их сумму и произведение.'},\n",
       "     {'11': ['1'],\n",
       "      'rating': 2,\n",
       "      'task': '11. Напишите программу, которая выводит на экран квадрат из звездочек со стороной N.'},\n",
       "     {'12': ['1'],\n",
       "      'rating': 1,\n",
       "      'task': '12. Найти длину окружности и площадь круга заданного радиуса R (радиус нужно ввести с клавиатуры). В качестве значения Pi использовать 3.14.'},\n",
       "     {'13': ['1'],\n",
       "      'rating': 2,\n",
       "      'task': '13. Найти площадь кольца, внутренний радиус которого равен R1, а внешний радиус равен R2 (R1 < R2). В качестве значения Pi использовать 3.14. Значения R1 и R2 ввести с клавиатуры.'},\n",
       "     {'14': ['1'],\n",
       "      'rating': 2,\n",
       "      'task': '14. Дана длина окружности. Найти площадь круга, ограниченного этой окружностью. В качестве значения Pi использовать 3.14. Длину окружности ввести с клавиатуры.'},\n",
       "     {'15': ['1'],\n",
       "      'rating': 2,\n",
       "      'task': '15. Дана площадь круга. Найти длину окружности, ограничивающей этот круг. В качестве значения Pi использовать 3.14. Площадь круга нужно ввести с клавиатуры.'},\n",
       "     {'16': ['1'],\n",
       "      'rating': 2,\n",
       "      'task': '16. Напишите программу, которая определяет, верно ли, что введенное число трехзначное'},\n",
       "     {'17': ['1'],\n",
       "      'rating': 3,\n",
       "      'task': '17. Напишите программу, которая вводит трехзначное число и десятичную цифру. Определить, входит ли цифра в десятичную запись введенного числа.'},\n",
       "     {'18': ['1'],\n",
       "      'rating': 2,\n",
       "      'task': '18. Напишите программу, которая вводит четырехзначное число и определяет, верно ли, что в его десятичной записи цифры стоят в порядке возрастания'},\n",
       "     {'19': ['1'],\n",
       "      'rating': 1,\n",
       "      'task': '19. Напишите программу, которая вводит номер месяца и выводит название времени года. При вводе неверного номера месяца должно быть выведено сообщение об ошибке.'},\n",
       "     {'20': ['1'],\n",
       "      'rating': 1,\n",
       "      'task': '20. Напишите программу, которая вводит номер месяца и определяет, сколько дней в этом месяце. При вводе неверного номера месяца должно быть выведено сообщение об ошибке.'},\n",
       "     {'21': ['1'],\n",
       "      'rating': 2,\n",
       "      'task': '21. Напишите  программу,  которая  вводит  номер  месяца  и  день  и  определяет, сколько дней осталось до Нового года. При вводе неверных данных  должно быть выведено сообщение об ошибке.'},\n",
       "     {'22': ['1'],\n",
       "      'rating': 2,\n",
       "      'task': '22. Напишите программу, которая вводит возраст человека (целое число от  0  до  120  лет)  и  выводит  этот  возраст  со  словом  «год»,  «года»  или  «лет».  Например, «21 год», «22 года», «25 лет». '},\n",
       "     {'23': ['1'],\n",
       "      'rating': 3,\n",
       "      'task': '23.  Напишите  программу,  которая  вводит  целое  число,  не  превышающее  100, и выводит его прописью, например, 21 -> «двадцать один».'},\n",
       "     {'24': ['1'],\n",
       "      'rating': 3,\n",
       "      'task': '24.  Напишите  программу,  которая  определяет,  верно  ли,  что  введенное  число содержит две одинаковые цифры, стоящие рядом (как, например, 221).'},\n",
       "     {'25': ['1'],\n",
       "      'rating': 3,\n",
       "      'task': '25.  Напишите  программу,  которая  определяет,  верно  ли,  что  введенное  число состоит из одинаковых цифр (как, например, 222).'},\n",
       "     {'26': ['1'],\n",
       "      'rating': 1,\n",
       "      'task': '26.  Напишите  программу,  которая  определяет,  верно  ли,  что  введенное  число содержит по крайней мере две одинаковые цифры, возможно, не стоящие  рядом (как, например, 212).'},\n",
       "     {'27': ['1'],\n",
       "      'rating': 1,\n",
       "      'task': '27.  Напишите  программу,  которая  определяет,  верно  ли,  что  введенное  число  содержит  ровно  три  одинаковые  цифры,  а  все  остальные  встречаются  только по одному разу (например, как в числе 77237).'},\n",
       "     {'28': ['1'],\n",
       "      'rating': 3,\n",
       "      'task': '28. Напишите программу, которая выводит на экран запись переданного ей  числа в римской системе счисления.'},\n",
       "     {'29': ['1'],\n",
       "      'rating': 1,\n",
       "      'task': '29.  На  соревнованиях  выступление  спортсмена  оценивают  5  экспертов,  каждый  из  них  выставляет  оценку  в  баллах  (целое  число).  Для  получения  итоговой оценки лучшая и худшая оценки отбрасываются, а для оставшихся трех  находится  среднее  арифметическое.  Напишите  программу,  которая  вводит  5  оценок экспертов и возвращает итоговую оценку выступления спортсмена.'},\n",
       "     {'30': ['1'],\n",
       "      'rating': 3,\n",
       "      'task': '30. Дано четырехзначное число n. Выбросите из записи числа n цифры 0 и  5,  оставив  прежним  порядок  всех  остальных  цифр.  Например,  из  числа  1509  должно получиться 19.'},\n",
       "     {'31': ['1'],\n",
       "      'rating': 1,\n",
       "      'task': '31. Напишите программу, которая вводит натуральное число N и находит  сумму всех натуральных чисел от 1 до N.'},\n",
       "     {'32': ['1'],\n",
       "      'rating': 1,\n",
       "      'task': '32. Напишите программу, которая вводит натуральное число N и выводит  первые N четных натуральных чисел.'},\n",
       "     {'33': ['1'],\n",
       "      'rating': 1,\n",
       "      'task': '33. Напишите  программу,  которая  вводит  натуральные  числа  a  и  b,  и  выводит квадраты натуральных чисел в диапазоне от a до b.'},\n",
       "     {'34': ['1'],\n",
       "      'rating': 1,\n",
       "      'task': '34.  Найдите все пятизначные числа, которые при  делении на 133 дают в  остатке 125, а при делении на 134 дают в остатке 111.'},\n",
       "     {'35': ['1'],\n",
       "      'rating': 3,\n",
       "      'task': '35.  Напишите программу, которая вводит с клавиатуры натуральное число  N и определяет его факториал, т.е. произведение натуральных чисел от 1 до N.  Что будет, если ввести большое значение N (например, N = 20)?'},\n",
       "     {'36': ['1'],\n",
       "      'rating': 2,\n",
       "      'task': '36. Напишите  программу,  которая  вводит  натуральные  числа  A  и  N  и  вычисляет A^N без использования операции возведения в степень.'},\n",
       "     {'39': ['1'],\n",
       "      'rating': 1,\n",
       "      'task': '39. Напишите программу, которая вводит последовательность целых чисел,  заканчивающуюся нулем, и определяет количество четных положительных чисел  в этой последовательности.'},\n",
       "     {'40': ['1'],\n",
       "      'rating': 1,\n",
       "      'task': '40. Напишите программу, которая вводит последовательность целых чисел,  заканчивающуюся  нулем,  и  определяет,  является  ли  она  возрастающей  (неубывающей).'},\n",
       "     {'41': ['1'],\n",
       "      'rating': 1,\n",
       "      'task': '41. Напишите программу, которая вводит последовательность целых чисел,  заканчивающуюся  нулем,  и  определяет,  верно  ли,  что  знаки  элементов  этой  последовательности чередуются.'},\n",
       "     {'42': ['1'],\n",
       "      'rating': 2,\n",
       "      'task': '42. Напишите программу, которая вводит последовательность целых чисел,  заканчивающуюся  нулем,  и  определяет,  сколько  из  этих  целых  чисел  удовлетворяет условию: сумма значений цифр десятичной записи числа равна 10.'},\n",
       "     {'43': ['1'],\n",
       "      'rating': 1,\n",
       "      'task': '43.  Напишите программу, которая вводит с клавиатуры числа до тех пор,  пока не будет введено число 0. В конце работы программы на экран выводится  максимальное и минимальное из введенных чисел (не считая 0).'},\n",
       "     {'45': ['1'],\n",
       "      'rating': 1,\n",
       "      'task': '45.  Напишите  программу,  которая  выводит  в  столбик  все  цифры  числа,  начиная с первой.'},\n",
       "     {'47': ['1'],\n",
       "      'rating': 3,\n",
       "      'task': '47. Натуральное  число  называется  автоморфным,  если  оно  равно  последним цифрам своего квадрата. Например, 25^2=625. Напишите программу,  которая вводит натуральное число N и выводит на экран все автоморфные числа,  не превосходящие N.'},\n",
       "     {'49': ['1'],\n",
       "      'rating': 2,\n",
       "      'task': '49. Совершенным называется число, равное сумме всех своих делителей,  меньших его самого (например, 6 = 1+2+3). Напишите программу, которая вводит  натуральное число N и определяет, является ли число N совершенным.'},\n",
       "     {'50': ['1'],\n",
       "      'rating': 3,\n",
       "      'task': '50. Дружественные  числа  –  это  два  натуральных  числа,  таких  что  сумма  всех делителей одного числа (меньших самого этого числа) равна другому числу,  и наоборот. Найдите все пары дружественных чисел, каждое из которых меньше  10000.'},\n",
       "     {'51': ['1'],\n",
       "      'rating': 1,\n",
       "      'task': '51. Напишите программу, которая вводит натуральное число N и находит  все числа на отрезке от 0 до N, сумма цифр которых не меняется при умножении  числа на 2, 3, 4, 5, 6, 7, 8 и 9 (например, число 9).'},\n",
       "     {'52': ['1'],\n",
       "      'rating': 1,\n",
       "      'task': '52. Определите количество трехзначных натуральных чисел, сумма цифр  которых разна заданному числу N.'},\n",
       "     {'53': ['1'],\n",
       "      'rating': 2,\n",
       "      'task': '53.  Совершенным называется число, равное сумме всех своих делителей,  меньших его самого (например, 6 = 1+2+3). Грекам были известны первые четыре  совершенных числа: 6, 28, 496, 8128. Эти числа высоко ценились. Даже в XII веке  церковь  утверждала,  что  для  спасения  души  необходимо  найти  пятое  совершенное число. Это число было найдено только в XV веке. Найдите пятое  совершенное число.'},\n",
       "     {'56': ['1'],\n",
       "      'rating': 3,\n",
       "      'task': '56. Стороны  прямоугольника  заданы  натуральными  числами  M  и  N.  Составьте  программу,  которая  будет  находить,  на  сколько  квадратов,  стороны  которых  выражены  натуральными  числами,  можно  разрезать  данный  прямоугольник,  если  от  него  каждый  раз  отрезается  квадрат  максимально  большой площади.'},\n",
       "     {'58': ['1'],\n",
       "      'rating': 2,\n",
       "      'task': '58. Ряд чисел Фибоначчи задается следующим образом: первые два числа  равны  1  (F(1)=F(2)=1),  а  каждое  последующее  число  равно  сумме  двух  предыдущих:  F(n)=F(n-1)+F(n-2).  Напишите  программу,  которая  вводит  натуральное число N и выводит на экран первые N чисел Фибоначчи.'},\n",
       "     {'59': ['1'],\n",
       "      'rating': 2,\n",
       "      'task': '59. Напишите  программу,  которая  вводит  натуральные  числа  а  и  b  и  выводит все простые числа в диапазоне от a до b.'},\n",
       "     {'61': ['1'],\n",
       "      'rating': 3,\n",
       "      'task': '61. Составьте программу для вычисления суммы кубов чисел от 25 до 125.'},\n",
       "     {'62': ['1'],\n",
       "      'rating': 3,\n",
       "      'task': '62.  Среди  двузначных  чисел  найдите  те,  сумма  квадратов  цифр  которых  делится на 13.'},\n",
       "     {'63': ['1'],\n",
       "      'rating': 3,\n",
       "      'task': '63. Напишите программу поиска двузначных чисел, таких, что если к сумме  цифр этого числа прибавить квадрат этой суммы, получится это число.'},\n",
       "     {'64': ['1'],\n",
       "      'rating': 1,\n",
       "      'task': '64.  Квадрат трехзначного числа оканчивается тремя цифрами, которые как  раз и составляют это число. Напишите программу поиска таких чисел.'},\n",
       "     {'65': ['1'],\n",
       "      'rating': 1,\n",
       "      'task': '65. Найдите сумму положительных нечетных чисел, меньших 100.'},\n",
       "     {'66': ['1'],\n",
       "      'rating': 2,\n",
       "      'task': '66.  Найдите сумму целых положительных чисел из промежутка от A до B,  кратных 4 (значения А и B вводятся с клавиатуры).'},\n",
       "     {'67': ['1'],\n",
       "      'rating': 3,\n",
       "      'task': '67. Найдите сумму целых положительных чисел, больших 20, меньших 100,  кратных 3 и заканчивающихся на 2, 4, 8.'},\n",
       "     {'68': ['1'],\n",
       "      'rating': 2,\n",
       "      'task': '68. Даны  натуральные  числа  m,  n.  Получите  все  кратные  им  числа,  меньшие m*n.'},\n",
       "     {'70': ['1'],\n",
       "      'rating': 2,\n",
       "      'task': '70.  Старинная  задача.  Сколько  можно  купить  быков,  коров  и  телят,  если  плата за быка 10 руб., за корову – 5 руб., за теленка – полтинник (0.5 руб.), если  на 100 рублей надо купить 100 голов скота?'},\n",
       "     {'71': ['1'],\n",
       "      'rating': 3,\n",
       "      'task': '71.  Даны натуральные числа m и n. Найдите такие натуральные p и q, не  имеющие общих делителей, что p/q = m/n.'},\n",
       "     {'73': ['1'],\n",
       "      'rating': 3,\n",
       "      'task': '73.  Даны  действительные  положительные  числа  a,  b,  с,  x,  y.  Выяснить,  пройдет ли кирпич с ребрами a, b, с в прямоугольное отверстие x*y. Просовывать  кирпич разрешается только так, чтобы каждое из его ребер было перпендикулярно  или параллельно каждой из сторон отверстия.  '},\n",
       "     {'74': ['1'],\n",
       "      'rating': 3,\n",
       "      'task': '74.  Дано  целое  число  K  и  набор  ненулевых  целых  чисел;  признак  его  завершения — число 0. Вывести количество чисел в наборе, меньших K.'},\n",
       "     {'75': ['1'],\n",
       "      'rating': 1,\n",
       "      'task': '75.  Дано  целое  число  K  и  набор  ненулевых  целых  чисел;  признак  его  завершения —  число 0. Вывести номер последнего числа в наборе, меньшего  K.  Если таких чисел в наборе нет, то вывести 0.'},\n",
       "     {'76': ['1'],\n",
       "      'rating': 2,\n",
       "      'task': '76.  Вывести  строку  длины  N  (N  — четное),  которая  состоит  из  чередующихся символов C1 и C2, начиная с C1.'},\n",
       "     {'77': ['1'],\n",
       "      'rating': 1,\n",
       "      'task': '77.  Дана  строка.  Вывести  строку,  содержащую  те  же  символы,  но  расположенные в обратном порядке.'},\n",
       "     {'78': ['1'],\n",
       "      'rating': 2,\n",
       "      'task': '78. Дана строка. Вывести ее первый и последний символы.'},\n",
       "     {'81': ['1'],\n",
       "      'rating': 1,\n",
       "      'task': '81.  Дана  строка.  Если  она  представляет  собой  запись  целого  числа,  то  вывести  1;  если  вещественного  (с  дробной  частью),  то  вывести  2;  если  строку  нельзя преобразовать в число, то вывести 0.'},\n",
       "     {'82': ['1'],\n",
       "      'rating': 2,\n",
       "      'task': '82. Дано целое число. Вывести набор символов, содержащий цифры этого  числа в обратном порядке.'},\n",
       "     {'83': ['1'],\n",
       "      'rating': 3,\n",
       "      'task': '83.  Дана  строка  S,  изображающая  вещественное  число  в  формате  с  плавающей  точкой,  и  целое  число  N  (>  0).  Вывести  набор  символов,  изображающих  первые  N  цифр  дробной  части  этого  вещественного  числа  (без  округления).'},\n",
       "     {'84': ['1'],\n",
       "      'rating': 1,\n",
       "      'task': '84. Дана строка, изображающая  десятичную запись целого числа. Вывести  строку, изображающую двоичную запись этого же числа.'},\n",
       "     {'85': ['1'],\n",
       "      'rating': 2,\n",
       "      'task': '85.  Дана  строка,  изображающая  целое  число.  Вывести  сумму  цифр  этого  числа.'},\n",
       "     {'86': ['1'],\n",
       "      'rating': 1,\n",
       "      'task': '86.  Дана  строка  S  и  число  N.  Преобразовать  строку  S  в  строку  длины  N  следующим  образом: если  длина  строки  S  больше  N,  то  отбросить  первые  символы, если длина строки S меньше N, то в ее начало добавить символы \".\"  (точка).'},\n",
       "     {'87': ['1'],\n",
       "      'rating': 2,\n",
       "      'task': '87. Даны два числа: N1 и N2, и две строки: S1 и S2. Получить из этих строк  новую  строку,  объединив  N1  первых  символов  строки  S1  и  N2  последних  символов строки S2.'},\n",
       "     {'88': ['1'],\n",
       "      'rating': 2,\n",
       "      'task': '88. Даны две строки: S1 и S2. Проверить, содержится ли строка S2 в строке  S1. Если да, то вывести номер позиции, начиная с которой S2 содержится в S1,  если нет, то вывести 0.'},\n",
       "     {'89': ['1'],\n",
       "      'rating': 1,\n",
       "      'task': '89. Даны две строки: S1 и S2. Определить количество вхождений строки S2  в строку S1. '}]}}},\n",
       " 'id': '2ce8575a-5c08-4c35-ab0f-ab19d877e717'}"
      ]
     },
     "execution_count": 9,
     "metadata": {},
     "output_type": "execute_result"
    }
   ],
   "source": [
    "message = { \"id\": id }\n",
    "message = { \"jsonrpc\": \"2.0\", \"id\": id, \"method\": \"get_message_result\", \"params\":{}}\n",
    "resp = requests.post(\"http://localhost:57888/api/run\", json=message)\n",
    "resp.json()"
   ]
  },
  {
   "attachments": {},
   "cell_type": "markdown",
   "id": "ae496b2b",
   "metadata": {},
   "source": [
    "# ПОЛУЧАЕМ ДАННЫЕ О СТРУКТУРЕ КОЛЛЕКЦИИ (СИНХРОННЫЙ СПОСОБ)"
   ]
  },
  {
   "cell_type": "code",
   "execution_count": 8,
   "id": "0d88e8a4",
   "metadata": {},
   "outputs": [
    {
     "data": {
      "text/plain": [
       "{'jsonrpc': '2.0',\n",
       " 'result': {'problems': []},\n",
       " 'id': '8b57a2a1-f1fd-44cb-82a2-1c8d515c54ae'}"
      ]
     },
     "execution_count": 5,
     "metadata": {},
     "output_type": "execute_result"
    }
   ],
   "source": [
    "#addr = \"http://cluster.vstu.ru:57888\"\n",
    "addr = \"http://localhost:57888\"\n",
    "id = str(uuid.uuid4())\n",
    "message = { \"jsonrpc\": \"2.0\", \"id\": id, \"method\": \"get_courses_data\", \"params\": {\"mqtt_key\": \"234\", \"user\": \"2321\", \"type\": \"problems\", \"data_key\": \"test\", \"action\": \"get_data\"}}\n",
    "resp = requests.post(f\"{addr}/api/run\", json=message)\n",
    "resp.json()"
   ]
  },
  {
   "attachments": {},
   "cell_type": "markdown",
   "id": "922c98b1",
   "metadata": {},
   "source": [
    "# УДАЛЕНИЕ КОЛЛЕКЦИИ"
   ]
  },
  {
   "cell_type": "code",
   "execution_count": 15,
   "id": "e57ed107",
   "metadata": {},
   "outputs": [
    {
     "data": {
      "text/plain": [
       "{'jsonrpc': '2.0',\n",
       " 'result': {'test': 'Droped!'},\n",
       " 'id': '1b3b5430-62e3-45ca-86fd-6a72e6037581'}"
      ]
     },
     "execution_count": 15,
     "metadata": {},
     "output_type": "execute_result"
    }
   ],
   "source": [
    "#addr = \"http://cluster.vstu.ru:57888\"\n",
    "addr = \"http://localhost:57888\"\n",
    "course = \"test\"\n",
    "id = str(uuid.uuid4())\n",
    "message = { \"jsonrpc\": \"2.0\", \"id\": id, \"method\": \"clear_data\", \"params\": {\"mqtt_key\": \"234\", \"user\": \"2321\", \"type\": \"course\", \"data_key\": course, \"action\": \"clear_data\"}}\n",
    "resp = requests.post(f\"{addr}/api/run\", json=message)\n",
    "resp.json()"
   ]
  },
  {
   "attachments": {},
   "cell_type": "markdown",
   "id": "a3a82256",
   "metadata": {},
   "source": [
    "# СОСТАВЛЕНИЕ ФАЙЛА С ЗАДАЧАМИ"
   ]
  },
  {
   "cell_type": "code",
   "execution_count": 6,
   "id": "49098601",
   "metadata": {},
   "outputs": [],
   "source": [
    "path = \"/Users/user/Temp/vstu-pycourse-tests\"\n",
    "tests = []\n",
    "for number in range(1, 90):\n",
    "    fn = f'{path}/tests/{number}/result.json'\n",
    "    fn1 = f'{path}/tasks/{number}.py'\n",
    "    if os.path.exists(fn):\n",
    "        with open(fn, encoding='utf-8') as f:\n",
    "            var = json.load(f)\n",
    "        with open(fn1, encoding='utf-8') as f:\n",
    "            txt = f.read()\n",
    "            ind1 = txt.find(\"'''\")\n",
    "            ind2 = txt.find(\"'''\", 10)\n",
    "            txt = txt[ind1+3:ind2].replace(\"\\n\", \" \")\n",
    "        test = {\"problem\": number, \"rating\": random.choice([1,2,3]), \"task\": txt, \"type\": \"equal\", \"variants\": {\"1\": var}}\n",
    "        tests.append(test)\n",
    "with open(f\"{path}/test_problems.json\", \"w\", encoding='utf-8') as f:\n",
    "    json.dump(tests, f, ensure_ascii=False)"
   ]
  },
  {
   "attachments": {},
   "cell_type": "markdown",
   "id": "a91940d4",
   "metadata": {},
   "source": [
    "# ДОБАВЛЕНИЕ ЗАДАЧ ИЗ ФАЙЛА"
   ]
  },
  {
   "cell_type": "code",
   "execution_count": 12,
   "id": "3a535f3f",
   "metadata": {},
   "outputs": [
    {
     "name": "stdout",
     "output_type": "stream",
     "text": [
      "Problem 125, variant 1\n",
      "<Response [200]>\n",
      "{'jsonrpc': '2.0', 'result': {'add_problem_processor': {'task': 'Введите слова в строке через пробел, выведите наибольшее и наименьшее по длине из введенных слов , не используя функции max() и min(). Пример: при вводе hello, his name is VorLeonid ожидается: VorLeonid is.', 'problem': 125, 'type': 'equal', 'rating': 2, 'variants': {'1': {'1': {'in': 'hello, his name is VorLeonid', 'out': 'VorLeonid is', 'score': 10}}, '2': {'1': {'in': 'hi hellooooooo', 'out': 'hellooooooo hi', 'score': 10}}}}}, 'id': '3e4d5f4f-5e9d-460e-954f-46fd14f4a8ee'}\n",
      "Problem 125, variant 2\n",
      "<Response [200]>\n",
      "{'jsonrpc': '2.0', 'result': {'add_problem_processor': {'task': 'Введите слова в строке через пробел, выведите наибольшее и наименьшее по длине из введенных слов , не используя функции max() и min(). Пример: при вводе hello, his name is VorLeonid ожидается: VorLeonid is.', 'problem': 125, 'type': 'equal', 'rating': 2, 'variants': {'1': {'1': {'in': 'hello, his name is VorLeonid', 'out': 'VorLeonid is', 'score': 10}}, '2': {'1': {'in': 'hi hellooooooo', 'out': 'hellooooooo hi', 'score': 10}}}}}, 'id': 'f67a645b-f0ab-42e5-9180-3a61258cd4cf'}\n"
     ]
    }
   ],
   "source": [
    "course = \"digital_test\"\n",
    "#addr = \"http://cluster.vstu.ru:57888\"\n",
    "addr = \"http://62.76.72.55:57888\"\n",
    "fn = \"tests2.json\"\n",
    "with open(fn, encoding='utf-8') as f:\n",
    "    data = json.load(f)\n",
    "l = []\n",
    "for p in data:\n",
    "    if p[\"problem\"] not in l and len(l) > 0:\n",
    "        continue\n",
    "    for v in p[\"variants\"]:\n",
    "        print(f'Problem {p[\"problem\"]}, variant {v}')\n",
    "        id = str(uuid.uuid4())\n",
    "        message = {\n",
    "            \"jsonrpc\": \"2.0\",\n",
    "            \"id\": id,\n",
    "            \"method\": \"add_message\",\n",
    "            \"params\": {\n",
    "                \"mqtt_key\": 123,\n",
    "                \"user\": \"admin\", \n",
    "                \"type\": p[\"type\"],\n",
    "                \"rating\": p[\"rating\"],\n",
    "                \"course\": course, \n",
    "                \"problem\": p[\"problem\"], \n",
    "                \"variant\": v,\n",
    "                \"action\": \"add_problem\",\n",
    "                \"task\": p.get(\"task\", \"\"),\n",
    "                \"tests\": p[\"variants\"][v]\n",
    "            }\n",
    "        }\n",
    "        r = requests.post(f\"{addr}/api/run\", json=message)\n",
    "        print(f\"{r}\")\n",
    "        message = { \"jsonrpc\": \"2.0\", \"id\": id, \"method\": \"get_message_result\", \"params\":{}}\n",
    "        while True:\n",
    "            time.sleep(1)\n",
    "            resp = requests.post(f\"{addr}/api/run\", json=message)\n",
    "            if resp.status_code == 200 and 'result' in resp.text:\n",
    "                print(f\"{resp.json()}\")\n",
    "                break\n"
   ]
  },
  {
   "attachments": {},
   "cell_type": "markdown",
   "id": "4feb52fb",
   "metadata": {},
   "source": [
    "# ПОЛУЧАЕМ ДАМП БАЗЫ"
   ]
  },
  {
   "cell_type": "code",
   "execution_count": 20,
   "id": "c97587ee",
   "metadata": {},
   "outputs": [
    {
     "data": {
      "text/plain": [
       "{'jsonrpc': '2.0', 'result': [], 'id': 'ad98a740-5716-4ac1-85ab-d5029f0ff458'}"
      ]
     },
     "execution_count": 20,
     "metadata": {},
     "output_type": "execute_result"
    }
   ],
   "source": [
    "id = str(uuid.uuid4())\n",
    "message = { \"jsonrpc\": \"2.0\", \"id\": id, \"method\": \"get_base_dump\", \"params\": {\"date\": \"2023-05-30\", \"processor_name\": \"equal_processor\", \"admin_key\": \"e86e915a-249f-4fdc-a48a-7c3f9a0b36ff\"}}\n",
    "resp = requests.post(\n",
    "    \"http://localhost:57888/api/run\", json=message)\n",
    "resp.json()"
   ]
  },
  {
   "attachments": {},
   "cell_type": "markdown",
   "id": "9e98b963",
   "metadata": {},
   "source": [
    "# ДОБАВЛЯЕМ/ИЗМЕНЯЕМ ИНФОРМАЦИЮ ПОЛЬЗОВАТЕЛЯ"
   ]
  },
  {
   "cell_type": "code",
   "execution_count": 23,
   "id": "486e21c2",
   "metadata": {},
   "outputs": [
    {
     "data": {
      "text/plain": [
       "{'jsonrpc': '2.0',\n",
       " 'result': 'sucess',\n",
       " 'id': 'ba8edef9-5d5e-4452-b083-f9e39a02c1dc'}"
      ]
     },
     "execution_count": 23,
     "metadata": {},
     "output_type": "execute_result"
    }
   ],
   "source": [
    "id = str(uuid.uuid4())\n",
    "message = { \"jsonrpc\": \"2.0\", \"id\": id, \"method\": \"add_user_info\", \"params\": { \"user_name\": \"123456\", \"data\": {\"var\": [1,2,3]} }}\n",
    "resp = requests.post(\n",
    "    \"http://localhost:57888/api/run\", json=message)\n",
    "resp.json()"
   ]
  },
  {
   "attachments": {},
   "cell_type": "markdown",
   "id": "997b5f82",
   "metadata": {},
   "source": [
    "# ПОЛУЧАЕМ ИНФОРМАЦИЮ ПОЛЬЗОВАТЕЛЯ"
   ]
  },
  {
   "cell_type": "code",
   "execution_count": 13,
   "id": "daed2bb6",
   "metadata": {},
   "outputs": [
    {
     "ename": "ConnectionError",
     "evalue": "HTTPConnectionPool(host='localhost', port=57888): Max retries exceeded with url: /api/run (Caused by NewConnectionError('<urllib3.connection.HTTPConnection object at 0x10e777dd0>: Failed to establish a new connection: [Errno 61] Connection refused'))",
     "output_type": "error",
     "traceback": [
      "\u001b[0;31m---------------------------------------------------------------------------\u001b[0m",
      "\u001b[0;31mConnectionRefusedError\u001b[0m                    Traceback (most recent call last)",
      "File \u001b[0;32m~/miniconda3/lib/python3.11/site-packages/urllib3/connection.py:174\u001b[0m, in \u001b[0;36mHTTPConnection._new_conn\u001b[0;34m(self)\u001b[0m\n\u001b[1;32m    173\u001b[0m \u001b[39mtry\u001b[39;00m:\n\u001b[0;32m--> 174\u001b[0m     conn \u001b[39m=\u001b[39m connection\u001b[39m.\u001b[39mcreate_connection(\n\u001b[1;32m    175\u001b[0m         (\u001b[39mself\u001b[39m\u001b[39m.\u001b[39m_dns_host, \u001b[39mself\u001b[39m\u001b[39m.\u001b[39mport), \u001b[39mself\u001b[39m\u001b[39m.\u001b[39mtimeout, \u001b[39m*\u001b[39m\u001b[39m*\u001b[39mextra_kw\n\u001b[1;32m    176\u001b[0m     )\n\u001b[1;32m    178\u001b[0m \u001b[39mexcept\u001b[39;00m SocketTimeout:\n",
      "File \u001b[0;32m~/miniconda3/lib/python3.11/site-packages/urllib3/util/connection.py:95\u001b[0m, in \u001b[0;36mcreate_connection\u001b[0;34m(address, timeout, source_address, socket_options)\u001b[0m\n\u001b[1;32m     94\u001b[0m \u001b[39mif\u001b[39;00m err \u001b[39mis\u001b[39;00m \u001b[39mnot\u001b[39;00m \u001b[39mNone\u001b[39;00m:\n\u001b[0;32m---> 95\u001b[0m     \u001b[39mraise\u001b[39;00m err\n\u001b[1;32m     97\u001b[0m \u001b[39mraise\u001b[39;00m socket\u001b[39m.\u001b[39merror(\u001b[39m\"\u001b[39m\u001b[39mgetaddrinfo returns an empty list\u001b[39m\u001b[39m\"\u001b[39m)\n",
      "File \u001b[0;32m~/miniconda3/lib/python3.11/site-packages/urllib3/util/connection.py:85\u001b[0m, in \u001b[0;36mcreate_connection\u001b[0;34m(address, timeout, source_address, socket_options)\u001b[0m\n\u001b[1;32m     84\u001b[0m     sock\u001b[39m.\u001b[39mbind(source_address)\n\u001b[0;32m---> 85\u001b[0m sock\u001b[39m.\u001b[39mconnect(sa)\n\u001b[1;32m     86\u001b[0m \u001b[39mreturn\u001b[39;00m sock\n",
      "\u001b[0;31mConnectionRefusedError\u001b[0m: [Errno 61] Connection refused",
      "\nDuring handling of the above exception, another exception occurred:\n",
      "\u001b[0;31mNewConnectionError\u001b[0m                        Traceback (most recent call last)",
      "File \u001b[0;32m~/miniconda3/lib/python3.11/site-packages/urllib3/connectionpool.py:715\u001b[0m, in \u001b[0;36mHTTPConnectionPool.urlopen\u001b[0;34m(self, method, url, body, headers, retries, redirect, assert_same_host, timeout, pool_timeout, release_conn, chunked, body_pos, **response_kw)\u001b[0m\n\u001b[1;32m    714\u001b[0m \u001b[39m# Make the request on the httplib connection object.\u001b[39;00m\n\u001b[0;32m--> 715\u001b[0m httplib_response \u001b[39m=\u001b[39m \u001b[39mself\u001b[39m\u001b[39m.\u001b[39m_make_request(\n\u001b[1;32m    716\u001b[0m     conn,\n\u001b[1;32m    717\u001b[0m     method,\n\u001b[1;32m    718\u001b[0m     url,\n\u001b[1;32m    719\u001b[0m     timeout\u001b[39m=\u001b[39mtimeout_obj,\n\u001b[1;32m    720\u001b[0m     body\u001b[39m=\u001b[39mbody,\n\u001b[1;32m    721\u001b[0m     headers\u001b[39m=\u001b[39mheaders,\n\u001b[1;32m    722\u001b[0m     chunked\u001b[39m=\u001b[39mchunked,\n\u001b[1;32m    723\u001b[0m )\n\u001b[1;32m    725\u001b[0m \u001b[39m# If we're going to release the connection in ``finally:``, then\u001b[39;00m\n\u001b[1;32m    726\u001b[0m \u001b[39m# the response doesn't need to know about the connection. Otherwise\u001b[39;00m\n\u001b[1;32m    727\u001b[0m \u001b[39m# it will also try to release it and we'll have a double-release\u001b[39;00m\n\u001b[1;32m    728\u001b[0m \u001b[39m# mess.\u001b[39;00m\n",
      "File \u001b[0;32m~/miniconda3/lib/python3.11/site-packages/urllib3/connectionpool.py:416\u001b[0m, in \u001b[0;36mHTTPConnectionPool._make_request\u001b[0;34m(self, conn, method, url, timeout, chunked, **httplib_request_kw)\u001b[0m\n\u001b[1;32m    415\u001b[0m     \u001b[39melse\u001b[39;00m:\n\u001b[0;32m--> 416\u001b[0m         conn\u001b[39m.\u001b[39mrequest(method, url, \u001b[39m*\u001b[39m\u001b[39m*\u001b[39mhttplib_request_kw)\n\u001b[1;32m    418\u001b[0m \u001b[39m# We are swallowing BrokenPipeError (errno.EPIPE) since the server is\u001b[39;00m\n\u001b[1;32m    419\u001b[0m \u001b[39m# legitimately able to close the connection after sending a valid response.\u001b[39;00m\n\u001b[1;32m    420\u001b[0m \u001b[39m# With this behaviour, the received response is still readable.\u001b[39;00m\n",
      "File \u001b[0;32m~/miniconda3/lib/python3.11/site-packages/urllib3/connection.py:244\u001b[0m, in \u001b[0;36mHTTPConnection.request\u001b[0;34m(self, method, url, body, headers)\u001b[0m\n\u001b[1;32m    243\u001b[0m     headers[\u001b[39m\"\u001b[39m\u001b[39mUser-Agent\u001b[39m\u001b[39m\"\u001b[39m] \u001b[39m=\u001b[39m _get_default_user_agent()\n\u001b[0;32m--> 244\u001b[0m \u001b[39msuper\u001b[39m(HTTPConnection, \u001b[39mself\u001b[39m)\u001b[39m.\u001b[39mrequest(method, url, body\u001b[39m=\u001b[39mbody, headers\u001b[39m=\u001b[39mheaders)\n",
      "File \u001b[0;32m~/miniconda3/lib/python3.11/http/client.py:1286\u001b[0m, in \u001b[0;36mHTTPConnection.request\u001b[0;34m(self, method, url, body, headers, encode_chunked)\u001b[0m\n\u001b[1;32m   1285\u001b[0m \u001b[39m\u001b[39m\u001b[39m\"\"\"Send a complete request to the server.\"\"\"\u001b[39;00m\n\u001b[0;32m-> 1286\u001b[0m \u001b[39mself\u001b[39m\u001b[39m.\u001b[39m_send_request(method, url, body, headers, encode_chunked)\n",
      "File \u001b[0;32m~/miniconda3/lib/python3.11/http/client.py:1332\u001b[0m, in \u001b[0;36mHTTPConnection._send_request\u001b[0;34m(self, method, url, body, headers, encode_chunked)\u001b[0m\n\u001b[1;32m   1331\u001b[0m     body \u001b[39m=\u001b[39m _encode(body, \u001b[39m'\u001b[39m\u001b[39mbody\u001b[39m\u001b[39m'\u001b[39m)\n\u001b[0;32m-> 1332\u001b[0m \u001b[39mself\u001b[39m\u001b[39m.\u001b[39mendheaders(body, encode_chunked\u001b[39m=\u001b[39mencode_chunked)\n",
      "File \u001b[0;32m~/miniconda3/lib/python3.11/http/client.py:1281\u001b[0m, in \u001b[0;36mHTTPConnection.endheaders\u001b[0;34m(self, message_body, encode_chunked)\u001b[0m\n\u001b[1;32m   1280\u001b[0m     \u001b[39mraise\u001b[39;00m CannotSendHeader()\n\u001b[0;32m-> 1281\u001b[0m \u001b[39mself\u001b[39m\u001b[39m.\u001b[39m_send_output(message_body, encode_chunked\u001b[39m=\u001b[39mencode_chunked)\n",
      "File \u001b[0;32m~/miniconda3/lib/python3.11/http/client.py:1041\u001b[0m, in \u001b[0;36mHTTPConnection._send_output\u001b[0;34m(self, message_body, encode_chunked)\u001b[0m\n\u001b[1;32m   1040\u001b[0m \u001b[39mdel\u001b[39;00m \u001b[39mself\u001b[39m\u001b[39m.\u001b[39m_buffer[:]\n\u001b[0;32m-> 1041\u001b[0m \u001b[39mself\u001b[39m\u001b[39m.\u001b[39msend(msg)\n\u001b[1;32m   1043\u001b[0m \u001b[39mif\u001b[39;00m message_body \u001b[39mis\u001b[39;00m \u001b[39mnot\u001b[39;00m \u001b[39mNone\u001b[39;00m:\n\u001b[1;32m   1044\u001b[0m \n\u001b[1;32m   1045\u001b[0m     \u001b[39m# create a consistent interface to message_body\u001b[39;00m\n",
      "File \u001b[0;32m~/miniconda3/lib/python3.11/http/client.py:979\u001b[0m, in \u001b[0;36mHTTPConnection.send\u001b[0;34m(self, data)\u001b[0m\n\u001b[1;32m    978\u001b[0m \u001b[39mif\u001b[39;00m \u001b[39mself\u001b[39m\u001b[39m.\u001b[39mauto_open:\n\u001b[0;32m--> 979\u001b[0m     \u001b[39mself\u001b[39m\u001b[39m.\u001b[39mconnect()\n\u001b[1;32m    980\u001b[0m \u001b[39melse\u001b[39;00m:\n",
      "File \u001b[0;32m~/miniconda3/lib/python3.11/site-packages/urllib3/connection.py:205\u001b[0m, in \u001b[0;36mHTTPConnection.connect\u001b[0;34m(self)\u001b[0m\n\u001b[1;32m    204\u001b[0m \u001b[39mdef\u001b[39;00m \u001b[39mconnect\u001b[39m(\u001b[39mself\u001b[39m):\n\u001b[0;32m--> 205\u001b[0m     conn \u001b[39m=\u001b[39m \u001b[39mself\u001b[39m\u001b[39m.\u001b[39m_new_conn()\n\u001b[1;32m    206\u001b[0m     \u001b[39mself\u001b[39m\u001b[39m.\u001b[39m_prepare_conn(conn)\n",
      "File \u001b[0;32m~/miniconda3/lib/python3.11/site-packages/urllib3/connection.py:186\u001b[0m, in \u001b[0;36mHTTPConnection._new_conn\u001b[0;34m(self)\u001b[0m\n\u001b[1;32m    185\u001b[0m \u001b[39mexcept\u001b[39;00m SocketError \u001b[39mas\u001b[39;00m e:\n\u001b[0;32m--> 186\u001b[0m     \u001b[39mraise\u001b[39;00m NewConnectionError(\n\u001b[1;32m    187\u001b[0m         \u001b[39mself\u001b[39m, \u001b[39m\"\u001b[39m\u001b[39mFailed to establish a new connection: \u001b[39m\u001b[39m%s\u001b[39;00m\u001b[39m\"\u001b[39m \u001b[39m%\u001b[39m e\n\u001b[1;32m    188\u001b[0m     )\n\u001b[1;32m    190\u001b[0m \u001b[39mreturn\u001b[39;00m conn\n",
      "\u001b[0;31mNewConnectionError\u001b[0m: <urllib3.connection.HTTPConnection object at 0x10e777dd0>: Failed to establish a new connection: [Errno 61] Connection refused",
      "\nDuring handling of the above exception, another exception occurred:\n",
      "\u001b[0;31mMaxRetryError\u001b[0m                             Traceback (most recent call last)",
      "File \u001b[0;32m~/miniconda3/lib/python3.11/site-packages/requests/adapters.py:486\u001b[0m, in \u001b[0;36mHTTPAdapter.send\u001b[0;34m(self, request, stream, timeout, verify, cert, proxies)\u001b[0m\n\u001b[1;32m    485\u001b[0m \u001b[39mtry\u001b[39;00m:\n\u001b[0;32m--> 486\u001b[0m     resp \u001b[39m=\u001b[39m conn\u001b[39m.\u001b[39murlopen(\n\u001b[1;32m    487\u001b[0m         method\u001b[39m=\u001b[39mrequest\u001b[39m.\u001b[39mmethod,\n\u001b[1;32m    488\u001b[0m         url\u001b[39m=\u001b[39murl,\n\u001b[1;32m    489\u001b[0m         body\u001b[39m=\u001b[39mrequest\u001b[39m.\u001b[39mbody,\n\u001b[1;32m    490\u001b[0m         headers\u001b[39m=\u001b[39mrequest\u001b[39m.\u001b[39mheaders,\n\u001b[1;32m    491\u001b[0m         redirect\u001b[39m=\u001b[39m\u001b[39mFalse\u001b[39;00m,\n\u001b[1;32m    492\u001b[0m         assert_same_host\u001b[39m=\u001b[39m\u001b[39mFalse\u001b[39;00m,\n\u001b[1;32m    493\u001b[0m         preload_content\u001b[39m=\u001b[39m\u001b[39mFalse\u001b[39;00m,\n\u001b[1;32m    494\u001b[0m         decode_content\u001b[39m=\u001b[39m\u001b[39mFalse\u001b[39;00m,\n\u001b[1;32m    495\u001b[0m         retries\u001b[39m=\u001b[39m\u001b[39mself\u001b[39m\u001b[39m.\u001b[39mmax_retries,\n\u001b[1;32m    496\u001b[0m         timeout\u001b[39m=\u001b[39mtimeout,\n\u001b[1;32m    497\u001b[0m         chunked\u001b[39m=\u001b[39mchunked,\n\u001b[1;32m    498\u001b[0m     )\n\u001b[1;32m    500\u001b[0m \u001b[39mexcept\u001b[39;00m (ProtocolError, \u001b[39mOSError\u001b[39;00m) \u001b[39mas\u001b[39;00m err:\n",
      "File \u001b[0;32m~/miniconda3/lib/python3.11/site-packages/urllib3/connectionpool.py:799\u001b[0m, in \u001b[0;36mHTTPConnectionPool.urlopen\u001b[0;34m(self, method, url, body, headers, retries, redirect, assert_same_host, timeout, pool_timeout, release_conn, chunked, body_pos, **response_kw)\u001b[0m\n\u001b[1;32m    797\u001b[0m     e \u001b[39m=\u001b[39m ProtocolError(\u001b[39m\"\u001b[39m\u001b[39mConnection aborted.\u001b[39m\u001b[39m\"\u001b[39m, e)\n\u001b[0;32m--> 799\u001b[0m retries \u001b[39m=\u001b[39m retries\u001b[39m.\u001b[39mincrement(\n\u001b[1;32m    800\u001b[0m     method, url, error\u001b[39m=\u001b[39me, _pool\u001b[39m=\u001b[39m\u001b[39mself\u001b[39m, _stacktrace\u001b[39m=\u001b[39msys\u001b[39m.\u001b[39mexc_info()[\u001b[39m2\u001b[39m]\n\u001b[1;32m    801\u001b[0m )\n\u001b[1;32m    802\u001b[0m retries\u001b[39m.\u001b[39msleep()\n",
      "File \u001b[0;32m~/miniconda3/lib/python3.11/site-packages/urllib3/util/retry.py:592\u001b[0m, in \u001b[0;36mRetry.increment\u001b[0;34m(self, method, url, response, error, _pool, _stacktrace)\u001b[0m\n\u001b[1;32m    591\u001b[0m \u001b[39mif\u001b[39;00m new_retry\u001b[39m.\u001b[39mis_exhausted():\n\u001b[0;32m--> 592\u001b[0m     \u001b[39mraise\u001b[39;00m MaxRetryError(_pool, url, error \u001b[39mor\u001b[39;00m ResponseError(cause))\n\u001b[1;32m    594\u001b[0m log\u001b[39m.\u001b[39mdebug(\u001b[39m\"\u001b[39m\u001b[39mIncremented Retry for (url=\u001b[39m\u001b[39m'\u001b[39m\u001b[39m%s\u001b[39;00m\u001b[39m'\u001b[39m\u001b[39m): \u001b[39m\u001b[39m%r\u001b[39;00m\u001b[39m\"\u001b[39m, url, new_retry)\n",
      "\u001b[0;31mMaxRetryError\u001b[0m: HTTPConnectionPool(host='localhost', port=57888): Max retries exceeded with url: /api/run (Caused by NewConnectionError('<urllib3.connection.HTTPConnection object at 0x10e777dd0>: Failed to establish a new connection: [Errno 61] Connection refused'))",
      "\nDuring handling of the above exception, another exception occurred:\n",
      "\u001b[0;31mConnectionError\u001b[0m                           Traceback (most recent call last)",
      "Cell \u001b[0;32mIn[13], line 3\u001b[0m\n\u001b[1;32m      1\u001b[0m \u001b[39mid\u001b[39m \u001b[39m=\u001b[39m \u001b[39mstr\u001b[39m(uuid\u001b[39m.\u001b[39muuid4())\n\u001b[1;32m      2\u001b[0m message \u001b[39m=\u001b[39m { \u001b[39m\"\u001b[39m\u001b[39mjsonrpc\u001b[39m\u001b[39m\"\u001b[39m: \u001b[39m\"\u001b[39m\u001b[39m2.0\u001b[39m\u001b[39m\"\u001b[39m, \u001b[39m\"\u001b[39m\u001b[39mid\u001b[39m\u001b[39m\"\u001b[39m: \u001b[39mid\u001b[39m, \u001b[39m\"\u001b[39m\u001b[39mmethod\u001b[39m\u001b[39m\"\u001b[39m: \u001b[39m\"\u001b[39m\u001b[39mget_user_info\u001b[39m\u001b[39m\"\u001b[39m, \u001b[39m\"\u001b[39m\u001b[39mparams\u001b[39m\u001b[39m\"\u001b[39m: { \u001b[39m\"\u001b[39m\u001b[39muser_name\u001b[39m\u001b[39m\"\u001b[39m: \u001b[39m\"\u001b[39m\u001b[39m*\u001b[39m\u001b[39m\"\u001b[39m }}\n\u001b[0;32m----> 3\u001b[0m resp \u001b[39m=\u001b[39m requests\u001b[39m.\u001b[39mpost(\n\u001b[1;32m      4\u001b[0m     \u001b[39m\"\u001b[39m\u001b[39mhttp://localhost:57888/api/run\u001b[39m\u001b[39m\"\u001b[39m, json\u001b[39m=\u001b[39mmessage)\n\u001b[1;32m      5\u001b[0m resp\u001b[39m.\u001b[39mjson()\n",
      "File \u001b[0;32m~/miniconda3/lib/python3.11/site-packages/requests/api.py:115\u001b[0m, in \u001b[0;36mpost\u001b[0;34m(url, data, json, **kwargs)\u001b[0m\n\u001b[1;32m    103\u001b[0m \u001b[39mdef\u001b[39;00m \u001b[39mpost\u001b[39m(url, data\u001b[39m=\u001b[39m\u001b[39mNone\u001b[39;00m, json\u001b[39m=\u001b[39m\u001b[39mNone\u001b[39;00m, \u001b[39m*\u001b[39m\u001b[39m*\u001b[39mkwargs):\n\u001b[1;32m    104\u001b[0m \u001b[39m    \u001b[39m\u001b[39mr\u001b[39m\u001b[39m\"\"\"Sends a POST request.\u001b[39;00m\n\u001b[1;32m    105\u001b[0m \n\u001b[1;32m    106\u001b[0m \u001b[39m    :param url: URL for the new :class:`Request` object.\u001b[39;00m\n\u001b[0;32m   (...)\u001b[0m\n\u001b[1;32m    112\u001b[0m \u001b[39m    :rtype: requests.Response\u001b[39;00m\n\u001b[1;32m    113\u001b[0m \u001b[39m    \"\"\"\u001b[39;00m\n\u001b[0;32m--> 115\u001b[0m     \u001b[39mreturn\u001b[39;00m request(\u001b[39m\"\u001b[39m\u001b[39mpost\u001b[39m\u001b[39m\"\u001b[39m, url, data\u001b[39m=\u001b[39mdata, json\u001b[39m=\u001b[39mjson, \u001b[39m*\u001b[39m\u001b[39m*\u001b[39mkwargs)\n",
      "File \u001b[0;32m~/miniconda3/lib/python3.11/site-packages/requests/api.py:59\u001b[0m, in \u001b[0;36mrequest\u001b[0;34m(method, url, **kwargs)\u001b[0m\n\u001b[1;32m     55\u001b[0m \u001b[39m# By using the 'with' statement we are sure the session is closed, thus we\u001b[39;00m\n\u001b[1;32m     56\u001b[0m \u001b[39m# avoid leaving sockets open which can trigger a ResourceWarning in some\u001b[39;00m\n\u001b[1;32m     57\u001b[0m \u001b[39m# cases, and look like a memory leak in others.\u001b[39;00m\n\u001b[1;32m     58\u001b[0m \u001b[39mwith\u001b[39;00m sessions\u001b[39m.\u001b[39mSession() \u001b[39mas\u001b[39;00m session:\n\u001b[0;32m---> 59\u001b[0m     \u001b[39mreturn\u001b[39;00m session\u001b[39m.\u001b[39mrequest(method\u001b[39m=\u001b[39mmethod, url\u001b[39m=\u001b[39murl, \u001b[39m*\u001b[39m\u001b[39m*\u001b[39mkwargs)\n",
      "File \u001b[0;32m~/miniconda3/lib/python3.11/site-packages/requests/sessions.py:589\u001b[0m, in \u001b[0;36mSession.request\u001b[0;34m(self, method, url, params, data, headers, cookies, files, auth, timeout, allow_redirects, proxies, hooks, stream, verify, cert, json)\u001b[0m\n\u001b[1;32m    584\u001b[0m send_kwargs \u001b[39m=\u001b[39m {\n\u001b[1;32m    585\u001b[0m     \u001b[39m\"\u001b[39m\u001b[39mtimeout\u001b[39m\u001b[39m\"\u001b[39m: timeout,\n\u001b[1;32m    586\u001b[0m     \u001b[39m\"\u001b[39m\u001b[39mallow_redirects\u001b[39m\u001b[39m\"\u001b[39m: allow_redirects,\n\u001b[1;32m    587\u001b[0m }\n\u001b[1;32m    588\u001b[0m send_kwargs\u001b[39m.\u001b[39mupdate(settings)\n\u001b[0;32m--> 589\u001b[0m resp \u001b[39m=\u001b[39m \u001b[39mself\u001b[39m\u001b[39m.\u001b[39msend(prep, \u001b[39m*\u001b[39m\u001b[39m*\u001b[39msend_kwargs)\n\u001b[1;32m    591\u001b[0m \u001b[39mreturn\u001b[39;00m resp\n",
      "File \u001b[0;32m~/miniconda3/lib/python3.11/site-packages/requests/sessions.py:703\u001b[0m, in \u001b[0;36mSession.send\u001b[0;34m(self, request, **kwargs)\u001b[0m\n\u001b[1;32m    700\u001b[0m start \u001b[39m=\u001b[39m preferred_clock()\n\u001b[1;32m    702\u001b[0m \u001b[39m# Send the request\u001b[39;00m\n\u001b[0;32m--> 703\u001b[0m r \u001b[39m=\u001b[39m adapter\u001b[39m.\u001b[39msend(request, \u001b[39m*\u001b[39m\u001b[39m*\u001b[39mkwargs)\n\u001b[1;32m    705\u001b[0m \u001b[39m# Total elapsed time of the request (approximately)\u001b[39;00m\n\u001b[1;32m    706\u001b[0m elapsed \u001b[39m=\u001b[39m preferred_clock() \u001b[39m-\u001b[39m start\n",
      "File \u001b[0;32m~/miniconda3/lib/python3.11/site-packages/requests/adapters.py:519\u001b[0m, in \u001b[0;36mHTTPAdapter.send\u001b[0;34m(self, request, stream, timeout, verify, cert, proxies)\u001b[0m\n\u001b[1;32m    515\u001b[0m     \u001b[39mif\u001b[39;00m \u001b[39misinstance\u001b[39m(e\u001b[39m.\u001b[39mreason, _SSLError):\n\u001b[1;32m    516\u001b[0m         \u001b[39m# This branch is for urllib3 v1.22 and later.\u001b[39;00m\n\u001b[1;32m    517\u001b[0m         \u001b[39mraise\u001b[39;00m SSLError(e, request\u001b[39m=\u001b[39mrequest)\n\u001b[0;32m--> 519\u001b[0m     \u001b[39mraise\u001b[39;00m \u001b[39mConnectionError\u001b[39;00m(e, request\u001b[39m=\u001b[39mrequest)\n\u001b[1;32m    521\u001b[0m \u001b[39mexcept\u001b[39;00m ClosedPoolError \u001b[39mas\u001b[39;00m e:\n\u001b[1;32m    522\u001b[0m     \u001b[39mraise\u001b[39;00m \u001b[39mConnectionError\u001b[39;00m(e, request\u001b[39m=\u001b[39mrequest)\n",
      "\u001b[0;31mConnectionError\u001b[0m: HTTPConnectionPool(host='localhost', port=57888): Max retries exceeded with url: /api/run (Caused by NewConnectionError('<urllib3.connection.HTTPConnection object at 0x10e777dd0>: Failed to establish a new connection: [Errno 61] Connection refused'))"
     ]
    }
   ],
   "source": [
    "id = str(uuid.uuid4())\n",
    "message = { \"jsonrpc\": \"2.0\", \"id\": id, \"method\": \"get_user_info\", \"params\": { \"user_name\": \"*\" }}\n",
    "resp = requests.post(\n",
    "    \"http://62.76.72.55:57888/api/run\", json=message)\n",
    "resp.json()"
   ]
  },
  {
   "cell_type": "code",
   "execution_count": null,
   "id": "2d5e2ba0",
   "metadata": {},
   "outputs": [],
   "source": []
  }
 ],
 "metadata": {
  "kernelspec": {
   "display_name": "base",
   "language": "python",
   "name": "python3"
  },
  "language_info": {
   "codemirror_mode": {
    "name": "ipython",
    "version": 3
   },
   "file_extension": ".py",
   "mimetype": "text/x-python",
   "name": "python",
   "nbconvert_exporter": "python",
   "pygments_lexer": "ipython3",
   "version": "3.11.5"
  }
 },
 "nbformat": 4,
 "nbformat_minor": 5
}
